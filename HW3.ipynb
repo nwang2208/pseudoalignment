{
  "cells": [
    {
      "cell_type": "markdown",
      "metadata": {
        "id": "view-in-github",
        "colab_type": "text"
      },
      "source": [
        "<a href=\"https://colab.research.google.com/github/nwang2208/Bioinformatics-Class-Projects/blob/homework-for-algorithms/HW3.ipynb\" target=\"_parent\"><img src=\"https://colab.research.google.com/assets/colab-badge.svg\" alt=\"Open In Colab\"/></a>"
      ]
    },
    {
      "cell_type": "markdown",
      "metadata": {
        "id": "L8ydbeaSNdjv"
      },
      "source": [
        "8.6 Q2"
      ]
    },
    {
      "cell_type": "code",
      "execution_count": null,
      "metadata": {
        "id": "T1cwf5sVRyS7"
      },
      "outputs": [],
      "source": [
        "import sklearn.metrics.pairwise\n",
        "import math\n",
        "import numpy as np\n",
        "from collections import OrderedDict\n",
        "import matplotlib.pyplot as plt"
      ]
    },
    {
      "cell_type": "code",
      "execution_count": null,
      "metadata": {
        "id": "ZIe4-gY3M-ky"
      },
      "outputs": [],
      "source": [
        "def FarthestFirstTravel(data, k):\n",
        "    centers = set()\n",
        "    centers.add(data[0])\n",
        "    centerList = []\n",
        "    centerList.append(data[0])\n",
        "\n",
        "\n",
        "    euList = []\n",
        "    while len(centers) < k:\n",
        "            max_dist = 0\n",
        "            new_center = 0\n",
        "            for i in range(0, len(data)):\n",
        "                min_dist = math.inf\n",
        "                for center in centers:\n",
        "                    if(math.dist(data[i],center) < min_dist):\n",
        "                        min_dist = math.dist(data[i],center)\n",
        "                euList.append(min_dist)\n",
        "            max_dist = np.array(euList).max()\n",
        "            index_max = np.array(euList).argmax()\n",
        "            centers.add(data[index_max])\n",
        "            centerList.append(data[index_max])\n",
        "            euList = []\n",
        "\n",
        "    out = list(OrderedDict.fromkeys(centerList))\n",
        "    return(out)\n"
      ]
    },
    {
      "cell_type": "code",
      "execution_count": null,
      "metadata": {
        "id": "4blzQL6FOVE_"
      },
      "outputs": [],
      "source": [
        "input = open(\"dataset_925929_2.txt\")\n",
        "input = input.readlines()\n",
        "firstLine = input[0].split()\n",
        "k = int(firstLine[0])\n",
        "m = int(firstLine[1])\n",
        "a = int(m/2)\n",
        "\n",
        "value = []\n",
        "coords = []\n",
        "data = input[1:len(input)]\n",
        "for i in range(0, len(data)):\n",
        "    line = data[i].split()\n",
        "    for j in range(0, m):\n",
        "        num = float(line[j])\n",
        "        value.append(num)\n",
        "    value = tuple(value)\n",
        "    coords.append(value)\n",
        "    value = []\n",
        "\n",
        "\n",
        "\n"
      ]
    },
    {
      "cell_type": "code",
      "execution_count": null,
      "metadata": {
        "id": "b4dl9b6bO4MW"
      },
      "outputs": [],
      "source": [
        "#coords = [(0.0, 0.0), (5.0, 5.0), (0.0, 5.0), (1.0, 1.0), (2.0, 2.0), (3.0, 3.0), (1.0, 2.0)]\n",
        "#k = 3\n",
        "ans = FarthestFirstTravel(coords, k)\n",
        "\n"
      ]
    },
    {
      "cell_type": "code",
      "source": [
        "for el in ans:\n",
        "    for num in el:\n",
        "        print(num, end = \" \")\n",
        "    print()"
      ],
      "metadata": {
        "colab": {
          "base_uri": "https://localhost:8080/"
        },
        "id": "9i3gPb093oDQ",
        "outputId": "9e18ad49-e543-483f-fd38-3fcb84f725f5"
      },
      "execution_count": null,
      "outputs": [
        {
          "output_type": "stream",
          "name": "stdout",
          "text": [
            "11.5 7.2 1.7 18.9 \n",
            "16.5 34.6 25.9 5.6 \n",
            "3.3 0.8 28.1 2.4 \n",
            "37.3 0.8 7.2 10.5 \n",
            "24.1 23.2 0.1 2.0 \n",
            "1.0 14.6 23.1 27.3 \n",
            "0.1 20.5 7.7 3.3 \n"
          ]
        }
      ]
    },
    {
      "cell_type": "code",
      "source": [
        "data = [(0.0,0.0), (5.0,5.0), (0.0, 5.0), (1.0, 1.0), (2.0, 2.0), (3.0, 3.0), (1.0, 2.0)]\n",
        "centers = set()\n",
        "centers.add(data[0])\n",
        "centerList = []\n",
        "centerList.append(data[0])\n",
        "\n",
        "\n",
        "euList = []\n",
        "while len(centers) < k:\n",
        "        max_dist = 0\n",
        "        new_center = 0\n",
        "        for i in range(0, len(data)):\n",
        "            min_dist = math.inf\n",
        "            for center in centers:\n",
        "                if(math.dist(data[i],center) < min_dist):\n",
        "                    min_dist = math.dist(data[i],center)\n",
        "            euList.append(min_dist)\n",
        "        max_dist = np.array(euList).max()\n",
        "        index_max = np.array(euList).argmax()\n",
        "        centers.add(data[index_max])\n",
        "        centerList.append(data[index_max])\n",
        "        euList = []\n",
        "\n",
        "\n",
        "\n",
        "\n",
        "arr = list(centers)"
      ],
      "metadata": {
        "id": "8E7ZlRtezqp5"
      },
      "execution_count": null,
      "outputs": []
    },
    {
      "cell_type": "code",
      "source": [
        "centerList\n",
        "out = list(OrderedDict.fromkeys(centerList))\n",
        "out"
      ],
      "metadata": {
        "colab": {
          "base_uri": "https://localhost:8080/"
        },
        "id": "bjf8SWrZ0YMB",
        "outputId": "c0f6e018-9bef-4205-8f8a-73140243a8a1"
      },
      "execution_count": null,
      "outputs": [
        {
          "output_type": "execute_result",
          "data": {
            "text/plain": [
              "[(0.0, 0.0), (5.0, 5.0), (0.0, 5.0)]"
            ]
          },
          "metadata": {},
          "execution_count": 163
        }
      ]
    },
    {
      "cell_type": "code",
      "source": [
        "for el in centers:\n",
        "    print(el)"
      ],
      "metadata": {
        "colab": {
          "base_uri": "https://localhost:8080/"
        },
        "id": "7U7wkruyymYB",
        "outputId": "f2eb7fa6-db78-4468-b442-3529e7a52051"
      },
      "execution_count": null,
      "outputs": [
        {
          "output_type": "stream",
          "name": "stdout",
          "text": [
            "(5.0, 5.0)\n",
            "(0.0, 5.0)\n",
            "(0.0, 0.0)\n"
          ]
        }
      ]
    },
    {
      "cell_type": "code",
      "source": [],
      "metadata": {
        "id": "hw4coxTzy4Eh"
      },
      "execution_count": null,
      "outputs": []
    },
    {
      "cell_type": "markdown",
      "source": [
        "8.7 Q3"
      ],
      "metadata": {
        "id": "Ra6nR2X76jB-"
      }
    },
    {
      "cell_type": "code",
      "source": [
        "input = open(\"dataset_925930_3.txt\")\n",
        "input = input.readlines()\n",
        "firstLine = input[0].split()\n",
        "k = int(firstLine[0])\n",
        "m = int(firstLine[1])\n",
        "a = int(m/2)\n",
        "\n",
        "value = []\n",
        "centers = []\n",
        "points = []\n",
        "\n",
        "data = input[1:len(input)]\n",
        "np_data = np.array(data)\n",
        "dash_index = np.where(np_data == '--------\\n')[0][0]\n",
        "for i in range(0, dash_index):\n",
        "    line = data[i].split()\n",
        "    for j in range(0, m):\n",
        "        num = float(line[j])\n",
        "        value.append(num)\n",
        "    value = tuple(value)\n",
        "    centers.append(value)\n",
        "    value = []\n",
        "for x in range(dash_index+1,len(data)):\n",
        "    line = data[x].split()\n",
        "    for j in range(0, m):\n",
        "        num = float(line[j])\n",
        "        value.append(num)\n",
        "    value = tuple(value)\n",
        "    points.append(value)\n",
        "    value = []"
      ],
      "metadata": {
        "id": "GxxxIYXo6lrW"
      },
      "execution_count": null,
      "outputs": []
    },
    {
      "cell_type": "code",
      "source": [
        "def distortion(points,centers):\n",
        "    total_distortion = 0\n",
        "    for point in points:\n",
        "          min_dist = math.inf\n",
        "          for center in centers:\n",
        "              if(math.dist(point,center) < min_dist):\n",
        "                    min_dist = math.dist(point,center)\n",
        "          total_distortion += (min_dist**2)\n",
        "    return total_distortion / len(points)\n",
        "\n",
        "\n",
        "\n"
      ],
      "metadata": {
        "id": "by08LxL_8MTl"
      },
      "execution_count": null,
      "outputs": []
    },
    {
      "cell_type": "code",
      "source": [
        "distortion(points,centers)"
      ],
      "metadata": {
        "colab": {
          "base_uri": "https://localhost:8080/"
        },
        "id": "NJgc1uka-IdO",
        "outputId": "32040192-dbf8-462e-f9db-9f2dcf047ee3"
      },
      "execution_count": null,
      "outputs": [
        {
          "output_type": "execute_result",
          "data": {
            "text/plain": [
              "8.006800929512009"
            ]
          },
          "metadata": {},
          "execution_count": 254
        }
      ]
    },
    {
      "cell_type": "markdown",
      "source": [
        "8.8 Q3"
      ],
      "metadata": {
        "id": "Wue_ahECARzV"
      }
    },
    {
      "cell_type": "code",
      "source": [
        "class Point:\n",
        "  def __init__(coord,center, cluster ,dist):\n",
        "    self.coord = coord\n",
        "    self.center = center\n",
        "    self.cluster = cluster\n",
        "    self.dist = dist"
      ],
      "metadata": {
        "id": "nns0z1rACrF0"
      },
      "execution_count": null,
      "outputs": []
    },
    {
      "cell_type": "code",
      "source": [
        "def lloyd_algo(k, m, points):\n",
        "      centers = []\n",
        "      centers = points[0:k]\n",
        "      #print(centers)\n",
        "      new_centers = []\n",
        "      #np_centers = np.array(centers)\n",
        "      clusters = []\n",
        "      for y in range(0,k):\n",
        "          clusters.append([])\n",
        "\n",
        "      #update_points = points[k:len(points)]\n",
        "      while True:\n",
        "            for point in points:\n",
        "                min_dist = math.inf\n",
        "                for c in range(0,k):\n",
        "                    #print(point)\n",
        "                    #print(centers[c])\n",
        "                    #print(math.dist(point,centers[c]))\n",
        "                    if(math.dist(point,centers[c]) < min_dist):\n",
        "                        min_dist = math.dist(point,centers[c])\n",
        "                        #chosen_center = centers[c]\n",
        "                        center_index = c\n",
        "                #print(center_index)\n",
        "                for x in range(0,k): #make clusters\n",
        "                    clusters[center_index].append(point)\n",
        "            for y in range(0,k):\n",
        "                    clusters[y].append(centers[y])\n",
        "            #print(clusters)\n",
        "            for a in range(0, k): #find new centers\n",
        "                  average = [sum(x)/len(x) for x in zip(*clusters[a])]\n",
        "                  new_centers.append(average)\n",
        "\n",
        "            #print(centers)\n",
        "            #print(new_centers)\n",
        "            if (centers == new_centers):\n",
        "                  break\n",
        "            centers = []\n",
        "            centers = new_centers\n",
        "            new_centers = []\n",
        "            #np_centers = np.array(centers)\n",
        "            #print(clusters)\n",
        "            clusters = []\n",
        "            for y in range(0,k):\n",
        "                clusters.append([])\n",
        "\n",
        "      return(centers)\n",
        "\n",
        "\n",
        "\n",
        "\n"
      ],
      "metadata": {
        "id": "mmDQFM-YAUBE"
      },
      "execution_count": null,
      "outputs": []
    },
    {
      "cell_type": "code",
      "source": [
        "def lloyd_algo(k, m, points):\n",
        "      centers = dat[:k]\n",
        "      clusters = []\n",
        "      cluster = 0\n",
        "\n",
        "      for y in range(0,k):\n",
        "          clusters.append([])\n",
        "\n",
        "      while True:\n",
        "          for point in points:\n",
        "                min_dist = math.inf\n",
        "                for j in range(0,len(centers)):\n",
        "                    if(math.dist(point,centers[j]) < min_dist):\n",
        "                        min_dist = math.dist(point,centers[j])\n",
        "                        chosen_center = centers[j]\n",
        "                        cluster = j\n",
        "                p = Point(point, chosen_center, cluster, min_dist)\n",
        "                clusters[cluster].append(p)\n",
        "          for\n",
        "\n",
        "\n",
        "\n",
        ""
      ],
      "metadata": {
        "id": "EGg1sekSC31i"
      },
      "execution_count": null,
      "outputs": []
    },
    {
      "cell_type": "code",
      "source": [
        "input = open(\"dataset_925931_3.txt\")\n",
        "input = input.readlines()\n",
        "firstLine = input[0].split()\n",
        "k = int(firstLine[0])\n",
        "m = int(firstLine[1])\n",
        "a = int(m/2)\n",
        "\n",
        "value = []\n",
        "coords = []\n",
        "data = input[1:len(input)]\n",
        "for i in range(0, len(data)):\n",
        "    line = data[i].split()\n",
        "    for j in range(0, m):\n",
        "        num = float(line[j])\n",
        "        value.append(num)\n",
        "    value = tuple(value)\n",
        "    coords.append(value)\n",
        "    value = []"
      ],
      "metadata": {
        "id": "iyGZr9ORGWna"
      },
      "execution_count": null,
      "outputs": []
    },
    {
      "cell_type": "code",
      "source": [
        "ans = lloyd_algo(k,m,coords)"
      ],
      "metadata": {
        "id": "DA9s3GOMH7BJ"
      },
      "execution_count": null,
      "outputs": []
    },
    {
      "cell_type": "code",
      "source": [
        "for el in ans:\n",
        "    for num in el:\n",
        "        print(num, end = \" \")\n",
        "    print()"
      ],
      "metadata": {
        "colab": {
          "base_uri": "https://localhost:8080/"
        },
        "id": "wBzPaVnHUGRt",
        "outputId": "41e0cc19-9871-49d9-ed25-f22a6ff9853e"
      },
      "execution_count": null,
      "outputs": [
        {
          "output_type": "stream",
          "name": "stdout",
          "text": [
            "4.322794117647078 3.4571078431372624 5.521078431372557 \n",
            "7.829411764705867 20.91008403361347 7.907563025210093 \n",
            "5.499999999999977 11.669686411149847 5.250871080139381 \n",
            "17.00035460992908 5.9007092198581645 6.90141843971634 \n",
            "6.480952380952404 7.083730158730162 17.77420634920633 \n"
          ]
        }
      ]
    },
    {
      "cell_type": "code",
      "source": [
        "k = 2\n",
        "m = 2\n",
        "points = [(1.3,1.1), (1.3, 0.2), (0.6, 2.8), (3.0, 3.2), (1.2, 0.7), (1.4, 1.6), (1.2, 1.0), (1.2, 1.1), (0.6, 1.5), (1.8, 2.6), (1.2, 1.3), (1.2, 1.0), (0.0, 1.9)]"
      ],
      "metadata": {
        "id": "_SMgRDzEGi9B"
      },
      "execution_count": null,
      "outputs": []
    },
    {
      "cell_type": "code",
      "source": [
        "lloyd_algo(k,m,points)"
      ],
      "metadata": {
        "id": "vioA--biR8j1"
      },
      "execution_count": null,
      "outputs": []
    },
    {
      "cell_type": "code",
      "source": [
        "      centers = []\n",
        "      centers = points[0:k]\n",
        "      #print(centers)\n",
        "      new_centers = []\n",
        "      #np_centers = np.array(centers)\n",
        "      clusters = []\n",
        "      for y in range(0,k):\n",
        "          clusters.append([])\n",
        "\n",
        "      #update_points = points[k:len(points)]\n",
        "      while True:\n",
        "            for point in points:\n",
        "                min_dist = math.inf\n",
        "                for c in range(0,k):\n",
        "                    #print(point)\n",
        "                    #print(centers[c])\n",
        "                    #print(math.dist(point,centers[c]))\n",
        "                    if(math.dist(point,centers[c]) < min_dist):\n",
        "                        min_dist = math.dist(point,centers[c])\n",
        "                        #chosen_center = centers[c]\n",
        "                        center_index = c\n",
        "                #print(center_index)\n",
        "                for x in range(0,k): #make clusters\n",
        "                    clusters[center_index].append(point)\n",
        "            for y in range(0,k):\n",
        "                    clusters[y].append(centers[y])\n",
        "            #print(clusters)\n",
        "            for a in range(0, k): #find new centers\n",
        "                  average = [sum(x)/len(x) for x in zip(*clusters[a])]\n",
        "                  new_centers.append(average)\n",
        "\n",
        "            #print(centers)\n",
        "            #print(new_centers)\n",
        "            if (centers == new_centers):\n",
        "                  break\n",
        "            centers = []\n",
        "            centers = new_centers\n",
        "            new_centers = []\n",
        "            #np_centers = np.array(centers)\n",
        "            #print(clusters)\n",
        "            clusters = []\n",
        "            for y in range(0,k):\n",
        "                clusters.append([])\n",
        "\n",
        "\n",
        ""
      ],
      "metadata": {
        "id": "hjUg655rHmhK"
      },
      "execution_count": null,
      "outputs": []
    },
    {
      "cell_type": "code",
      "source": [
        "centers"
      ],
      "metadata": {
        "colab": {
          "base_uri": "https://localhost:8080/"
        },
        "id": "RE2qur8QSHo0",
        "outputId": "d2a95d67-edc8-45ae-8651-19a562bbe515"
      },
      "execution_count": null,
      "outputs": [
        {
          "output_type": "execute_result",
          "data": {
            "text/plain": [
              "[[1.8000000000000003, 2.8666666666666667], [1.0599999999999998, 1.14]]"
            ]
          },
          "metadata": {},
          "execution_count": 382
        }
      ]
    },
    {
      "cell_type": "code",
      "source": [
        "x = [1.3, 1.3, 0.6, 3.0, 1.2, 1.4, 1.2, 1.2, .6, 1.8, 1.2, 1.2, 0.0]\n",
        "y = [1.1, 0.2, 2.8, 3.2, 0.7, 1.6, 1.0, 1.1, 1.5, 2.6, 1.3, 1.0, 1.9]\n",
        "\n",
        "plt.plot(x, y, 'r*')\n",
        "\n",
        "for i, j in zip(x, y):\n",
        "   plt.text(i, j, '({}, {})'.format(i, j))"
      ],
      "metadata": {
        "id": "P8pqhnalP7tm"
      },
      "execution_count": null,
      "outputs": []
    },
    {
      "cell_type": "code",
      "source": [
        "math.dist((1.3, 0.2), (0.6, 2.8))"
      ],
      "metadata": {
        "colab": {
          "base_uri": "https://localhost:8080/"
        },
        "id": "qL3DeBQ2MSx4",
        "outputId": "550bce45-0ea6-4c3a-e09d-c0681f41dfe1"
      },
      "execution_count": null,
      "outputs": [
        {
          "output_type": "execute_result",
          "data": {
            "text/plain": [
              "2.692582403567252"
            ]
          },
          "metadata": {},
          "execution_count": 342
        }
      ]
    },
    {
      "cell_type": "code",
      "source": [
        "            point = points[0]\n",
        "            centers = []\n",
        "            centers = points[0:k]\n",
        "            new_centers = []\n",
        "            #np_centers = np.array(centers)\n",
        "            clusters = []\n",
        "            center_index = 0\n",
        "            for y in range(0,k):\n",
        "                clusters.append([])\n",
        "            min_dist = math.inf\n",
        "            for c in range(0,len(centers)):\n",
        "                if(math.dist(point,center) < min_dist):\n",
        "                    min_dist = math.dist(point,center)\n",
        "                    chosen_center = center\n",
        "                    center_index = c\n",
        "            for x in range(0,k): #make clusters\n",
        "                print(center_index)\n",
        "                clusters[center_index].append(point)\n",
        "            #for a in range(0, k): #find new centers\n",
        "                  #average = [sum(x)/len(x) for x in zip(*clusters[a])]\n",
        "                  #new_centers.append(average)\n",
        "\n",
        "\n",
        "            #centers = new_centers\n",
        "            #np_centers = np.array(centers)\n",
        "            #clusters = []\n",
        "\n",
        "\n",
        ""
      ],
      "metadata": {
        "colab": {
          "base_uri": "https://localhost:8080/"
        },
        "id": "yCxU6JhbJFnB",
        "outputId": "54b5ee7b-fbd0-4780-cc1f-720add80c039"
      },
      "execution_count": null,
      "outputs": [
        {
          "output_type": "stream",
          "name": "stdout",
          "text": [
            "0\n",
            "0\n"
          ]
        }
      ]
    },
    {
      "cell_type": "code",
      "source": [
        "clusters = []\n",
        "for y in range(0,k):\n",
        "    clusters.append([])\n",
        "\n",
        "clusters[0].append((0,0))\n",
        "clusters[0].append((2,1))\n",
        "clusters"
      ],
      "metadata": {
        "colab": {
          "base_uri": "https://localhost:8080/"
        },
        "id": "wgBAg87LKcsw",
        "outputId": "81bf855b-3790-4c83-e6f8-afe81b4f467c"
      },
      "execution_count": null,
      "outputs": [
        {
          "output_type": "execute_result",
          "data": {
            "text/plain": [
              "[[(0, 0), (2, 1)], []]"
            ]
          },
          "metadata": {},
          "execution_count": 304
        }
      ]
    },
    {
      "cell_type": "code",
      "source": [
        "centers"
      ],
      "metadata": {
        "colab": {
          "base_uri": "https://localhost:8080/"
        },
        "id": "cH-zkqfTJHjQ",
        "outputId": "384aeded-f159-49e3-c07e-b5382ef9d484"
      },
      "execution_count": null,
      "outputs": [
        {
          "output_type": "execute_result",
          "data": {
            "text/plain": [
              "[(1.3, 1.1), (1.3, 0.2)]"
            ]
          },
          "metadata": {},
          "execution_count": 312
        }
      ]
    },
    {
      "cell_type": "code",
      "source": [
        "clusters"
      ],
      "metadata": {
        "colab": {
          "base_uri": "https://localhost:8080/"
        },
        "id": "Ea6BbSWQL1Jw",
        "outputId": "f5daa6ec-1cd7-4b8b-beeb-5ecdf2e9dd98"
      },
      "execution_count": null,
      "outputs": [
        {
          "output_type": "execute_result",
          "data": {
            "text/plain": [
              "[[(1.3, 1.1), (1.3, 1.1)], []]"
            ]
          },
          "metadata": {},
          "execution_count": 313
        }
      ]
    },
    {
      "cell_type": "markdown",
      "source": [
        "8.14 Q7"
      ],
      "metadata": {
        "id": "PrqEIookUZuU"
      }
    },
    {
      "cell_type": "code",
      "source": [
        "def mindistance(mat):\n",
        "    min_dist = math.inf\n",
        "    min_row = 0\n",
        "    min_col = 0\n",
        "    row = np.shape(mat)[0]\n",
        "    col = np.shape(mat)[1]\n",
        "\n",
        "    for row_id in range(0, row):\n",
        "        for col_id in range(0, col):\n",
        "            if mat[row_id, col_id] < min_dist:\n",
        "                min_dist = mat[row_id, col_id]\n",
        "                min_row = row_id\n",
        "                min_col = col_id\n",
        "    return [min_row, min_col]"
      ],
      "metadata": {
        "id": "_Cl8-bkgVts0"
      },
      "execution_count": null,
      "outputs": []
    },
    {
      "cell_type": "code",
      "source": [
        "def compute_mat(clusters,n):\n",
        "    new_mat = np.empty((len(clusters),len(clusters)))\n",
        "    for i in range(0, len(clusters)):\n",
        "        for j in range(i+1, len(clusters)):\n",
        "            total_dist = 0\n",
        "            for p1 in clusters[i]:\n",
        "                for p2 in clusters[j]:\n",
        "                    total_dist += n[p1, p2]\n",
        "            new_mat[i,j] = total_dist/"
      ],
      "metadata": {
        "id": "HYfhvytTWcBr"
      },
      "execution_count": null,
      "outputs": []
    },
    {
      "cell_type": "code",
      "source": [
        "def hierclustering(D, n): #D should be numpyarray\n",
        "    clusters = {}\n",
        "    for a in range(0, n):\n",
        "        clusters[a] = []\n",
        "\n",
        "    dist_matrix = np.array(D)\n",
        "\n",
        "    while(len(clusters) > 1):\n",
        "        coords = mindistance(dist_matrix)\n",
        "        new_cluster =\n",
        "        clusters.remove(clusters[row])\n",
        "        clusters.remove(clusters[col])\n",
        "        dist_matrix = compute_mat(clusters,n)\n",
        "\n"
      ],
      "metadata": {
        "id": "_DXxdEzHUgob"
      },
      "execution_count": null,
      "outputs": []
    },
    {
      "cell_type": "code",
      "source": [
        "def clustering(D, n):\n",
        "    clusters = [[i, 1] for i in range(n)]\n"
      ],
      "metadata": {
        "id": "LBDTfyCPaKFa"
      },
      "execution_count": null,
      "outputs": []
    },
    {
      "cell_type": "code",
      "source": [
        "clusters = [[i, 1] for i in range(5)]\n",
        "clusters"
      ],
      "metadata": {
        "colab": {
          "base_uri": "https://localhost:8080/"
        },
        "id": "ieGjIT2YaS3h",
        "outputId": "41762551-a296-474d-dad5-462b7eef89fe"
      },
      "execution_count": null,
      "outputs": [
        {
          "output_type": "execute_result",
          "data": {
            "text/plain": [
              "[[0, 1], [1, 1], [2, 1], [3, 1], [4, 1]]"
            ]
          },
          "metadata": {},
          "execution_count": 396
        }
      ]
    },
    {
      "cell_type": "code",
      "source": [
        "class HierarchicalClustering:\n",
        "    def __init__(self):\n",
        "        n, dist = self.readFromFile()\n",
        "        adj, newClusters = self.clustering(n, dist)\n",
        "        print('\\n'.join([' '.join([str(c) for c in clusters]) for clusters in newClusters]))\n",
        "        f = open('result.txt', 'w')\n",
        "        f.write('\\n'.join([' '.join([str(c) for c in clusters]) for clusters in newClusters]))\n",
        "        f.close()\n",
        "\n",
        "    def readFromFile(self):\n",
        "        f = open('dataset_925937_7.txt', 'r')\n",
        "        data = f.read().strip().split('\\n')\n",
        "        f.close()\n",
        "        n = int(data[0])\n",
        "        dist = np.array([[float(v) for v in d.split()] for d in data[1:]])\n",
        "        np.fill_diagonal(dist, np.inf)\n",
        "        return n, dist\n",
        "\n",
        "    def clustering(self, n, dist):\n",
        "        clusters = [[i, 1] for i in range(n)]\n",
        "        newClusters = []\n",
        "        adj = [[] for _ in range(n)]\n",
        "        while len(dist) > 1:\n",
        "            node_new = len(adj)\n",
        "            index = np.argmin(dist)\n",
        "            i = index // len(dist)\n",
        "            j = index % len(dist)\n",
        "            d_new = (dist[i, :] * clusters[i][1] + dist[j, :] * clusters[j][1]) / (clusters[i][1] + clusters[j][1])\n",
        "            d_new = np.delete(d_new, [i, j], 0)\n",
        "            dist = np.delete(dist, [i, j], 0)\n",
        "            dist = np.delete(dist, [i, j], 1)\n",
        "            dist = np.insert(dist, len(dist), d_new, 0)\n",
        "            d_new = np.insert(d_new, len(d_new), np.inf, 0)\n",
        "            dist = np.insert(dist, len(dist)-1, d_new, 1)\n",
        "            adj.append([clusters[i][0], clusters[j][0]])\n",
        "            clusters.append([node_new, clusters[i][1] + clusters[j][1]])\n",
        "            if i < j:\n",
        "                del clusters[j]\n",
        "                del clusters[i]\n",
        "            else:\n",
        "                del clusters[i]\n",
        "                del clusters[j]\n",
        "            newClusters.append(self.findLeafs(adj, node_new))\n",
        "        return adj, newClusters\n",
        "\n",
        "    def findLeafs(self, adj, v):\n",
        "        leafs = []\n",
        "        visited = [False for _ in range(len(adj))]\n",
        "        stack = []\n",
        "        stack.append(v)\n",
        "        while len(stack) > 0:\n",
        "            v = stack.pop()\n",
        "            if 0 == len(adj[v]):\n",
        "                leafs.append(v + 1)\n",
        "            if not visited[v]:\n",
        "                visited[v] = True\n",
        "                for w in adj[v]:\n",
        "                    stack.append(w)\n",
        "        return leafs\n",
        "\n",
        "if __name__ == \"__main__\":\n",
        "    HierarchicalClustering()"
      ],
      "metadata": {
        "colab": {
          "base_uri": "https://localhost:8080/"
        },
        "id": "pVT9J-EEaw1J",
        "outputId": "479e0abb-f62e-4336-8cc0-87df68e8aa98"
      },
      "execution_count": null,
      "outputs": [
        {
          "output_type": "stream",
          "name": "stdout",
          "text": [
            "10 9\n",
            "13 12\n",
            "16 14\n",
            "19 11\n",
            "18 4\n",
            "7 5\n",
            "15 3\n",
            "15 3 1\n",
            "20 2\n",
            "10 9 17\n",
            "15 3 1 13 12\n",
            "19 11 8\n",
            "20 2 7 5\n",
            "15 3 1 13 12 16 14\n",
            "10 9 17 6\n",
            "20 2 7 5 18 4\n",
            "10 9 17 6 15 3 1 13 12 16 14\n",
            "20 2 7 5 18 4 19 11 8\n",
            "20 2 7 5 18 4 19 11 8 10 9 17 6 15 3 1 13 12 16 14\n"
          ]
        }
      ]
    },
    {
      "cell_type": "code",
      "source": [],
      "metadata": {
        "id": "fB605jXOayAQ"
      },
      "execution_count": null,
      "outputs": []
    }
  ],
  "metadata": {
    "colab": {
      "provenance": [],
      "authorship_tag": "ABX9TyN2rVUvsRPqcsuUdYc5dXeQ",
      "include_colab_link": true
    },
    "kernelspec": {
      "display_name": "Python 3",
      "name": "python3"
    },
    "language_info": {
      "name": "python"
    }
  },
  "nbformat": 4,
  "nbformat_minor": 0
}