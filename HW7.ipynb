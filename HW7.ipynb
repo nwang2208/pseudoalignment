{
  "nbformat": 4,
  "nbformat_minor": 0,
  "metadata": {
    "colab": {
      "provenance": [],
      "authorship_tag": "ABX9TyNMy1HoOeep3ExqyVdg7aNi",
      "include_colab_link": true
    },
    "kernelspec": {
      "name": "python3",
      "display_name": "Python 3"
    },
    "language_info": {
      "name": "python"
    }
  },
  "cells": [
    {
      "cell_type": "markdown",
      "metadata": {
        "id": "view-in-github",
        "colab_type": "text"
      },
      "source": [
        "<a href=\"https://colab.research.google.com/github/nwang2208/Bioinformatics-Class-Projects/blob/homework-for-algorithms/HW7.ipynb\" target=\"_parent\"><img src=\"https://colab.research.google.com/assets/colab-badge.svg\" alt=\"Open In Colab\"/></a>"
      ]
    },
    {
      "cell_type": "code",
      "execution_count": null,
      "metadata": {
        "id": "NzOrS4fjxOAD"
      },
      "outputs": [],
      "source": []
    },
    {
      "cell_type": "markdown",
      "source": [
        "10.5 Q8"
      ],
      "metadata": {
        "id": "ebOfjk9Gxae9"
      }
    },
    {
      "cell_type": "code",
      "source": [
        "Paga = 0.099\n",
        "Pbga = 0.901\n",
        "Pagb = 0.743\n",
        "Pbgb = 0.257\n",
        "\n",
        "text = 'ABBBAAABAABBBBAAAABBAABBABBBBBABAABBBBABAABAABBABA'"
      ],
      "metadata": {
        "id": "r6LNgEbZxcmj"
      },
      "execution_count": null,
      "outputs": []
    },
    {
      "cell_type": "code",
      "source": [
        "Ppi = .5\n",
        "for i in range(1, len(text)):\n",
        "    if(text[i-1] == 'A'):\n",
        "        if(text[i] == 'A'):\n",
        "            Ppi = Ppi * Paga\n",
        "        else:\n",
        "            Ppi = Ppi * Pbga\n",
        "    elif(text[i-1] == 'B'):\n",
        "        if(text[i] == 'A'):\n",
        "            Ppi = Ppi * Pagb\n",
        "        else:\n",
        "            Ppi = Ppi * Pbgb\n"
      ],
      "metadata": {
        "id": "DNZ8kK504OPk"
      },
      "execution_count": null,
      "outputs": []
    },
    {
      "cell_type": "code",
      "source": [
        "Ppi"
      ],
      "metadata": {
        "id": "CqiDJZ264xlH"
      },
      "execution_count": null,
      "outputs": []
    },
    {
      "cell_type": "markdown",
      "source": [
        "10.5 Q10"
      ],
      "metadata": {
        "id": "dO3C3zrK5nas"
      }
    },
    {
      "cell_type": "code",
      "source": [
        "x = 'xzyyzxzzxxxyyxyyzxyzzzyyyzzyyxxyzyxzxxyxzxzzyzxyzy'\n",
        "path = 'BBABBBBBAABAABBAAABABBBBAAABABABBABAABAAAABABBABAA'\n",
        "\n",
        "Pxga = 0.303\n",
        "Pyga = 0.296\n",
        "Pzga = 0.401\n",
        "\n",
        "Pxgb = 0.018\n",
        "Pygb = 0.252\n",
        "Pzgb = 0.73\n",
        "\n"
      ],
      "metadata": {
        "id": "o23qojfZ5r7Y"
      },
      "execution_count": null,
      "outputs": []
    },
    {
      "cell_type": "code",
      "source": [
        "Ppgx = 1\n",
        "for i in range(0, len(path)):\n",
        "    if(path[i] == 'A'):\n",
        "        if(x[i] == 'x'):\n",
        "            Ppgx = Ppgx * Pxga\n",
        "        elif(x[i] == 'y'):\n",
        "            Ppgx = Ppgx * Pyga\n",
        "        else:\n",
        "            Ppgx = Ppgx * Pzga\n",
        "    elif(path[i] == 'B'):\n",
        "        if(x[i] == 'x'):\n",
        "            Ppgx = Ppgx * Pxgb\n",
        "        elif(x[i] == 'y'):\n",
        "            Ppgx = Ppgx * Pygb\n",
        "        else:\n",
        "            Ppgx = Ppgx * Pzgb\n"
      ],
      "metadata": {
        "id": "xFTUrKKg7wwR"
      },
      "execution_count": null,
      "outputs": []
    },
    {
      "cell_type": "code",
      "source": [
        "Ppgx"
      ],
      "metadata": {
        "colab": {
          "base_uri": "https://localhost:8080/"
        },
        "id": "PBmpGoEg9Hpn",
        "outputId": "a8e84352-9f21-4603-8e7e-882ecdb7d022"
      },
      "execution_count": null,
      "outputs": [
        {
          "output_type": "execute_result",
          "data": {
            "text/plain": [
              "1.223882013580701e-31"
            ]
          },
          "metadata": {},
          "execution_count": 13
        }
      ]
    },
    {
      "cell_type": "markdown",
      "source": [
        "10.6 Q7"
      ],
      "metadata": {
        "id": "gnTwiJR69j87"
      }
    },
    {
      "cell_type": "code",
      "source": [
        "import numpy as np"
      ],
      "metadata": {
        "id": "ZQneygEjH9dg"
      },
      "execution_count": null,
      "outputs": []
    },
    {
      "cell_type": "code",
      "source": [
        "def viterbi(emission, transition, x):\n",
        "    n = len(x) #length of x\n",
        "\n",
        "    s = np.ones(shape = (2, n)) * -float('inf')\n",
        "    pointers = [[False for e in range(n)] for s in range(2)]\n",
        "\n",
        "    for state in range(2): #source\n",
        "        s[state][0] =  np.log(1/2) + emission[state][x[0]]\n",
        "        pointers[state][0] = -1\n",
        "\n",
        "    for i in range(1, n):\n",
        "        for state in range(2):\n",
        "            for prev in range(2):\n",
        "                p_total = emission[state,emission[i]] + transition[prev,state] + s[prev,i-1]\n",
        "                if(p_total > s[state,i]):\n",
        "                    s[state][i] = p_total\n",
        "                    pointers[state,i] = prev\n",
        "\n",
        "    score = -float('inf')\n",
        "    for state in range(2):\n",
        "        if s[state][n-1] > score:\n",
        "            last = state\n",
        "            score = s[state][n-1]\n",
        "    path = [last]\n",
        "\n",
        "    i = n-1\n",
        "    while i>0:\n",
        "        next = pointers[last][i]\n",
        "        path.append(next)\n",
        "        last = next\n",
        "        i -= 1\n",
        "\n",
        "    return path\n",
        "\n"
      ],
      "metadata": {
        "id": "814kBKKau400"
      },
      "execution_count": null,
      "outputs": []
    },
    {
      "cell_type": "code",
      "source": [
        "def parse_HMM(lines):\n",
        "    emission = lines[0].strip()\n",
        "    alphabet = lines[2].strip().split()\n",
        "    emission = [int(alphabet.index(em)) for em in emission]\n",
        "    states = lines[4].strip().split()\n",
        "    S = len(states)\n",
        "    T = np.array([line.split()[1:] for line in lines[7:7+S]], float)\n",
        "    T = np.log(T)\n",
        "    E = np.array([line.split()[1:] for line in lines[9+S:]], float)\n",
        "    E = np.log(E)\n",
        "    return(emission, alphabet, states, T, E)"
      ],
      "metadata": {
        "id": "bxX-fVVH3CTU"
      },
      "execution_count": null,
      "outputs": []
    },
    {
      "cell_type": "code",
      "source": [
        "def viterbi_algorithm(emission, T, E, states, alphabet):\n",
        "    \"\"\"returns max likelihood hidden path for emission string, given HMM\"\"\"\n",
        "\n",
        "    S = len(states)\n",
        "    n = len(emission)\n",
        "    # initialize Viterbi graph and backpointers matrices\n",
        "    viterbi = np.ones(shape = (S, n)) * -float('inf')\n",
        "    pointers = [[False for e in range(n)] for s in range(S)]\n",
        "\n",
        "    # initialize first column of viterbi with: weight(node) = (Pr_emission)*(1/States)\n",
        "    for state in range(S):\n",
        "        viterbi[state][0] = np.log(1/S) + E[state][emission[0]]\n",
        "        pointers[state][0] = -1\n",
        "\n",
        "    # Fill viterbi graph using dynamic programming\n",
        "    for i in range(1,n):\n",
        "        for state in range(S):\n",
        "            for prev in range(S):\n",
        "                p_total = E[state][emission[i]] + T[prev][state] + viterbi[prev][i-1]\n",
        "                # find max-weight path to current node\n",
        "                if p_total > viterbi[state][i]:\n",
        "                    viterbi[state][i] = p_total\n",
        "                    pointers[state][i] = prev\n",
        "\n",
        "    # start backtrack from max-likelihood state in last column of viterbi graph\n",
        "    score = -float('inf')\n",
        "    for state in range(S):\n",
        "        if viterbi[state][n-1] > score:\n",
        "            last = state\n",
        "            score = viterbi[state][n-1]\n",
        "    path = [last]\n",
        "\n",
        "    # backtrack to recreate max likelihood hidden_path in reverse\n",
        "    i = n-1\n",
        "    while i > 0:\n",
        "        next = pointers[last][i]\n",
        "        path.append(next)\n",
        "        last = next\n",
        "        i -= 1\n",
        "    # reverse string to get hidden_path solution to decoding problem\n",
        "    return ''.join(str(states[state]) for state in path[::-1])"
      ],
      "metadata": {
        "id": "sP9hsmVk4QoW"
      },
      "execution_count": null,
      "outputs": []
    },
    {
      "cell_type": "code",
      "source": [
        "with open(\"dataset_925972_7.txt\") as f:\n",
        "    lines = [line.strip() for line in f]\n",
        "emission, alphabet, states, T, E = parse_HMM(lines)\n",
        "#decoded_pi = viterbi(emission, T, E)\n",
        "decoded_pi = viterbi_algorithm(emission, T, E, states, alphabet)"
      ],
      "metadata": {
        "id": "u8yTNFu51nn7"
      },
      "execution_count": null,
      "outputs": []
    },
    {
      "cell_type": "code",
      "source": [
        "decoded_pi"
      ],
      "metadata": {
        "colab": {
          "base_uri": "https://localhost:8080/",
          "height": 35
        },
        "id": "pNP_-9L04ZSi",
        "outputId": "f6e206e0-07cb-4fab-f9dd-9530ffbdf6b3"
      },
      "execution_count": null,
      "outputs": [
        {
          "output_type": "execute_result",
          "data": {
            "text/plain": [
              "'CCBBBBBBBBBBCAAAAACACCAACCACAAAABBCAAAAACCCACBBBBBCCAACCBBBBCCCCAACCACCCCBBBCCAAACCCCCAAACCCCBBBBCAC'"
            ],
            "application/vnd.google.colaboratory.intrinsic+json": {
              "type": "string"
            }
          },
          "metadata": {},
          "execution_count": 27
        }
      ]
    },
    {
      "cell_type": "markdown",
      "source": [
        "10.7 Q4"
      ],
      "metadata": {
        "id": "ZsuHCPts5LlJ"
      }
    },
    {
      "cell_type": "code",
      "source": [
        "def outcome_likelihood(emission, T, E, states): # outcome-likelihood of HMM emitting emissions (sum of all hidden paths)\n",
        "    \"\"\"returns likelihood of emission string, given HMM\"\"\"\n",
        "\n",
        "    S = len(states)\n",
        "    n = len(emission)\n",
        "    viterbi = np.zeros(shape = (S, n))\n",
        "\n",
        "    # init first column of viterbi with Pr_emission & 1/States\n",
        "    for state in range(S):\n",
        "        viterbi[state][0] = 1/S * E[state][emission[0]]\n",
        "\n",
        "    # Fill viterbi graph with sums over all incoming edges for ea node\n",
        "    for i in range(1,n):\n",
        "        for state in range(S):\n",
        "            em = E[state][emission[i]]\n",
        "            for prev in range(S):\n",
        "                trans = T[prev][state]\n",
        "                viterbi[state][i] += trans * em * viterbi[prev][i-1]\n",
        "    return sum(viterbi[s][n-1] for s in range(S))"
      ],
      "metadata": {
        "id": "w6fS69x65Mug"
      },
      "execution_count": null,
      "outputs": []
    },
    {
      "cell_type": "code",
      "source": [
        "with open('dataset_925973_4.txt') as f:\n",
        "    lines = [line.strip() for line in f]\n",
        "    emission, alphabet, states, T, E = parse_HMM(lines)\n",
        "    T = np.exp(T)\n",
        "    E = np.exp(E)\n",
        "\n",
        "    print('string:', emission,'\\nstates',states,'\\n\\nE_matrix\\n',E, '\\n\\nT_matrix\\n', T)\n",
        "\n",
        "\n",
        "outcome_likelihood(emission, T, E, states)"
      ],
      "metadata": {
        "id": "jUsCuE4L6Hxo"
      },
      "execution_count": null,
      "outputs": []
    },
    {
      "cell_type": "markdown",
      "source": [
        "10.11 Q4"
      ],
      "metadata": {
        "id": "njOjjyIM6aE9"
      }
    },
    {
      "cell_type": "code",
      "source": [
        "import pandas as pd\n"
      ],
      "metadata": {
        "id": "m0pIk3h8J27P"
      },
      "execution_count": null,
      "outputs": []
    },
    {
      "cell_type": "code",
      "source": [
        "def parameter_estimation(x, pi, states, alphabet):\n",
        "\n",
        "    S = len(states)\n",
        "    n = len(x)\n",
        "\n",
        "    alphaperstate = {}\n",
        "    for state in states:\n",
        "        i = 0\n",
        "        for ltr in pi:\n",
        "            if(state == ltr and state in alphaperstate.keys()):\n",
        "                alphaperstate[state].append(x[i])\n",
        "            elif(state == ltr):\n",
        "                alphaperstate[state] = [x[i]]\n",
        "            i+=1\n",
        "\n",
        "\n",
        "\n",
        "    emission = {}\n",
        "    emission_data = {}\n",
        "\n",
        "    used_alpha = []\n",
        "    used_state = []\n",
        "\n",
        "    for state in states:\n",
        "        for alpha in alphabet:\n",
        "            for key, value in alphaperstate.items():\n",
        "                for i in range(len(value)):\n",
        "                    if(value[i] == alpha and key == state and (state,alpha) in emission.keys()):\n",
        "                        emission[state,alpha] += 1\n",
        "                    elif(value[i] == alpha and key == state ):\n",
        "                        emission[state,alpha] = 1\n",
        "                        used_alpha.append(alpha)\n",
        "                        used_state.append(state)\n",
        "\n",
        "    if (len(used_state)!= len(states)*len(alphabet)):\n",
        "        for state in states:\n",
        "            if(state not in used_state):\n",
        "                for alpha in alphabet:\n",
        "                    emission[state,alpha] = 1\n",
        "    '''\n",
        "    if(len(used_alpha) != len(states)*len(alphabet)):\n",
        "        for alpha in alphabet:\n",
        "            if(alpha not in used_alpha):\n",
        "                for state in states:\n",
        "                    emission[state,alpha] = 1'''\n",
        "\n",
        "\n",
        "\n",
        "\n",
        "    for state in states:\n",
        "        for alpha in alphabet:\n",
        "            if((state,alpha) in emission.keys()):\n",
        "                if(state in alphaperstate.keys()):\n",
        "                    emission[state,alpha] = emission[state,alpha] / len(alphaperstate[state])\n",
        "                else:\n",
        "                    emission[state,alpha] = emission[state,alpha] / len(alphabet)\n",
        "                if(alpha in emission_data.keys()):\n",
        "                    emission_data[alpha].append(emission[state,alpha])\n",
        "                else:\n",
        "                    emission_data[alpha] = [emission[state,alpha]]\n",
        "\n",
        "    emission_df = pd.DataFrame(emission_data, index = states)\n",
        "\n",
        "    transition = {}\n",
        "    for state in states:\n",
        "        for state2 in states:\n",
        "            transition[state,state2] = 0\n",
        "    for i in range(1, len(pi)):\n",
        "        transition[pi[i-1], pi[i]] += 1\n",
        "\n",
        "    for state in states:\n",
        "        den = 0\n",
        "        for key, value in transition.items():\n",
        "            if(state == key[0]):\n",
        "                den += value\n",
        "        if(den == 0):\n",
        "            den = 1\n",
        "\n",
        "        for key, value in transition.items():\n",
        "            if(state == key[0]):\n",
        "                transition[key] = transition[key] / den\n",
        "\n",
        "    transition_data = {}\n",
        "    for state in states:\n",
        "        for key, value in transition.items():\n",
        "            if(state in key[1]):\n",
        "                if(state in transition_data.keys()):\n",
        "                    transition_data[state].append(value)\n",
        "                else:\n",
        "                    transition_data[state] = [value]\n",
        "    transition_df = pd.DataFrame(transition_data, index = states)\n",
        "\n",
        "    return(transition_df, emission_df)\n",
        "\n",
        "\n",
        "\n",
        "\n",
        "\n",
        "\n",
        "\n"
      ],
      "metadata": {
        "id": "e7uvf-qp7Cih"
      },
      "execution_count": null,
      "outputs": []
    },
    {
      "cell_type": "code",
      "source": [
        "x = 'zxyyyxxyyzzzxxyzyyyyxzyzxxzxxyzzxzyzzyyyzyxyyyzzyyyxyyxxzzxxxzyzxyzyyyzzzyzxxyzzzzxzyyzyyzyyzxzyxyyz'\n",
        "pi = 'BBBABBABBBCCBAAACBAACADDBDBCCADCDAADABCCCABAABCBBDCDCDDBACDCBBDDBCDADDCDABDBDAADCCCCCDCDDCDDCDDBBDBA'\n",
        "states = ['A','B','C', 'D']\n",
        "alphabet = ['x', 'y','z']"
      ],
      "metadata": {
        "id": "OYJRkRtc8ShC"
      },
      "execution_count": null,
      "outputs": []
    },
    {
      "cell_type": "code",
      "source": [
        "parameter_estimation(x, pi, states, alphabet)"
      ],
      "metadata": {
        "colab": {
          "base_uri": "https://localhost:8080/"
        },
        "id": "x16lFv1l8eah",
        "outputId": "3c6c329d-ad13-4abd-f9b9-a2f8ea158a8d"
      },
      "execution_count": null,
      "outputs": [
        {
          "output_type": "execute_result",
          "data": {
            "text/plain": [
              "(          A         B         C         D\n",
              " A  0.300000  0.300000  0.150000  0.250000\n",
              " B  0.269231  0.307692  0.192308  0.230769\n",
              " C  0.120000  0.160000  0.320000  0.400000\n",
              " D  0.178571  0.250000  0.321429  0.250000,\n",
              "           x         y         z\n",
              " A  0.095238  0.523810  0.380952\n",
              " B  0.384615  0.423077  0.192308\n",
              " C  0.200000  0.280000  0.520000\n",
              " D  0.250000  0.428571  0.321429)"
            ]
          },
          "metadata": {},
          "execution_count": 177
        }
      ]
    },
    {
      "cell_type": "code",
      "source": [
        "alphaperstate"
      ],
      "metadata": {
        "id": "LuT6gqhK-RMM"
      },
      "execution_count": null,
      "outputs": []
    },
    {
      "cell_type": "code",
      "source": [
        "from pandas.io.stata import value_label_mismatch_doc\n",
        "test = {('A', 'A'): 0,\n",
        " ('A', 'B'): 4,\n",
        " ('A', 'C'): 0,\n",
        " ('B', 'A'): 4,\n",
        " ('B', 'B'): 1,\n",
        " ('B', 'C'): 0,\n",
        " ('C', 'A'): 0,\n",
        " ('C', 'B'): 0,\n",
        " ('C', 'C'): 0}\n",
        "\n",
        "for state in states:\n",
        "    den = 0\n",
        "    for key, value in test.items():\n",
        "        if(state == key[0]):\n",
        "            den += value\n",
        "    if(den == 0):\n",
        "        den = 1\n",
        "\n",
        "    for key, value in test.items():\n",
        "        if(state == key[0]):\n",
        "            test[key] = test[key] / den\n",
        "\n",
        "test"
      ],
      "metadata": {
        "colab": {
          "base_uri": "https://localhost:8080/"
        },
        "id": "tomNq3A1NPz-",
        "outputId": "109ec4c0-428c-44b8-fc90-86def6a994b8"
      },
      "execution_count": null,
      "outputs": [
        {
          "output_type": "execute_result",
          "data": {
            "text/plain": [
              "{('A', 'A'): 0.0,\n",
              " ('A', 'B'): 1.0,\n",
              " ('A', 'C'): 0.0,\n",
              " ('B', 'A'): 0.8,\n",
              " ('B', 'B'): 0.2,\n",
              " ('B', 'C'): 0.0,\n",
              " ('C', 'A'): 0.0,\n",
              " ('C', 'B'): 0.0,\n",
              " ('C', 'C'): 0.0}"
            ]
          },
          "metadata": {},
          "execution_count": 163
        }
      ]
    },
    {
      "cell_type": "code",
      "source": [],
      "metadata": {
        "id": "wJu3UPfaWu9q"
      },
      "execution_count": null,
      "outputs": []
    },
    {
      "cell_type": "markdown",
      "source": [
        "10.12 Q5"
      ],
      "metadata": {
        "id": "Jp1NwK47WwUh"
      }
    },
    {
      "cell_type": "code",
      "source": [
        "with open('dataset_925973_4.txt') as f:\n",
        "    lines = [line.strip() for line in f]\n",
        "    emission, alphabet, states, T, E = parse_HMM(lines)\n",
        "    T = np.exp(T)\n",
        "    E = np.exp(E)\n",
        "\n",
        "    print('string:', emission,'\\nstates',states,'\\n\\nE_matrix\\n',E, '\\n\\nT_matrix\\n', T)\n",
        "\n",
        "\n",
        "den = outcome_likelihood(emission, T, E, states)"
      ],
      "metadata": {
        "id": "iCN0sdUxXy02"
      },
      "execution_count": null,
      "outputs": []
    },
    {
      "cell_type": "code",
      "source": [
        "class SoftDecoding:\n",
        "    def __init__(self):\n",
        "        x, transition, emission, alphabet, states = self.readFromFile()\n",
        "        Pr = self.softDecode(x, transition, emission, alphabet, states)\n",
        "        self.savePr(Pr, states)\n",
        "\n",
        "    def readFromFile(self):\n",
        "        f = open('dataset_925978_5.txt', 'r')\n",
        "        data = f.read().strip().split()\n",
        "        x = data[0]\n",
        "        ind = [i for i in range(len(data)) if '--------' == data[i]]\n",
        "        alphabet = data[ind[0]+1:ind[1]]\n",
        "        states = data[ind[1]+1:ind[2]]\n",
        "        transition = np.zeros((len(states), len(states)), dtype = float)\n",
        "        emission = np.zeros((len(states), len(alphabet)), dtype = float)\n",
        "        for i in range(len(states)):\n",
        "            transition[i, :] = [float(d) for d in data[ind[2]+len(states)+2+i*(len(states)+1):ind[2]+len(states)+1+(i+1)*(len(states)+1)]]\n",
        "            emission[i, :] = [float(d) for d in data[ind[3]+len(alphabet)+2+i*(len(alphabet)+1):ind[3]+len(alphabet)+1+(i+1)*(len(alphabet)+1)]]\n",
        "        return x, transition, emission, alphabet, states\n",
        "\n",
        "    def softDecode(self, x, transition, emission, alphabet, states):\n",
        "        n = len(x)\n",
        "        l = transition.shape[0]\n",
        "        x2ind = {alphabet[i]:i for i in range(len(alphabet))}\n",
        "        xList = [x2ind[x[i]] for i in range(len(x))]\n",
        "        forward = [[0 for _ in range(l)] for __ in range(n)]\n",
        "        backward = [[0 for _ in range(l)] for __ in range(n)]\n",
        "        for k in range(l):\n",
        "            forward[0][k] = emission[k, xList[0]]/l\n",
        "        for i in range(1, n):\n",
        "            for k in range(l):\n",
        "                forward[i][k] = sum([forward[i-1][kpre]*transition[kpre, k]*emission[k, xList[i]] for kpre in range(l)])\n",
        "        fsink = sum(forward[n-1])\n",
        "\n",
        "        for k in range(l):\n",
        "            backward[n-1][k] = 1\n",
        "        for i in range(n-2, -1, -1):\n",
        "            for k in range(l):\n",
        "                backward[i][k] = sum([backward[i+1][kpre]*transition[k, kpre]*emission[kpre, xList[i+1]] for kpre in range(l)])\n",
        "\n",
        "        Pr = np.zeros((n, l), dtype = float)\n",
        "        for i in range(n):\n",
        "            for k in range(l):\n",
        "                Pr[i, k] = forward[i][k]*backward[i][k]/fsink\n",
        "\n",
        "        return Pr\n",
        "\n",
        "    def savePr(self, Pr, states):\n",
        "        f = open('result.txt', 'w')\n",
        "        print(' '.join(states))\n",
        "        f.write('\\t'.join(states)+'\\n')\n",
        "        for i in range(Pr.shape[0]):\n",
        "            print(' '.join(list(map(str, Pr[i, :]))))\n",
        "            f.write('\\t'.join(list(map(str, Pr[i, :])))+'\\n')\n",
        "        f.close()\n",
        "\n",
        "if __name__ == '__main__':\n",
        "    SoftDecoding()"
      ],
      "metadata": {
        "colab": {
          "base_uri": "https://localhost:8080/"
        },
        "id": "UQOw53Q7X0je",
        "outputId": "56f926c5-0b8b-4b21-ea7d-c6f4095c2900"
      },
      "execution_count": null,
      "outputs": [
        {
          "output_type": "stream",
          "name": "stdout",
          "text": [
            "A B C\n",
            "0.47905180894564475 0.30343336655366654 0.21751482450068846\n",
            "0.19249753499405356 0.6208438469096077 0.1866586180963386\n",
            "0.08981368924511879 0.35770384304666797 0.5524824677082133\n",
            "0.1255008633330837 0.30195741867261333 0.5725417179943032\n",
            "0.339361498923966 0.37797528855344054 0.2826632125225936\n",
            "0.3538199974495944 0.38047121591073435 0.26570878663967146\n",
            "0.3168653652592422 0.4232859560657042 0.2598486786750537\n",
            "0.17781306392161222 0.6262654486881941 0.19592148739019372\n",
            "0.15482179614436672 0.6279507061344333 0.2172274977212\n",
            "0.23614306979266647 0.4682066953988062 0.29565023480852737\n"
          ]
        }
      ]
    },
    {
      "cell_type": "markdown",
      "source": [
        "10.13 Q5"
      ],
      "metadata": {
        "id": "QNTWs_cZY7rs"
      }
    },
    {
      "cell_type": "code",
      "source": [
        "class BaumWelch:\n",
        "    def __init__(self):\n",
        "        x, transition, emission, alphabet, states, iterNo = self.readFromFile()\n",
        "        transition, emission = self.BaumWelchLearning(x, transition, emission, alphabet, states, iterNo)\n",
        "        self.saveTransitionAndEmission(alphabet, states, transition, emission)\n",
        "\n",
        "    def readFromFile(self):\n",
        "        f = open('dataset_925979_5.txt', 'r')\n",
        "        data = f.read().strip().split()\n",
        "        iterNo = int(data[0])\n",
        "        x = data[2]\n",
        "        ind = [i for i in range(len(data)) if '--------' == data[i]]\n",
        "        alphabet = data[ind[1]+1:ind[2]]\n",
        "        states = data[ind[2]+1:ind[3]]\n",
        "        transition = np.zeros((len(states), len(states)), dtype = float)\n",
        "        emission = np.zeros((len(states), len(alphabet)), dtype = float)\n",
        "        for i in range(len(states)):\n",
        "            transition[i, :] = [float(d) for d in data[ind[3]+len(states)+2+i*(len(states)+1):ind[3]+len(states)+1+(i+1)*(len(states)+1)]]\n",
        "            emission[i, :] = [float(d) for d in data[ind[4]+len(alphabet)+2+i*(len(alphabet)+1):ind[4]+len(alphabet)+1+(i+1)*(len(alphabet)+1)]]\n",
        "        return x, transition, emission, alphabet, states, iterNo\n",
        "\n",
        "    def softDecode(self, xList, transition, emission):\n",
        "        n = len(xList)\n",
        "        l = transition.shape[0]\n",
        "        forward = [[0 for _ in range(l)] for __ in range(n)]\n",
        "        backward = [[0 for _ in range(l)] for __ in range(n)]\n",
        "        for k in range(l):\n",
        "            forward[0][k] = emission[k, xList[0]]/l\n",
        "        for i in range(1, n):\n",
        "            for k in range(l):\n",
        "                forward[i][k] = sum([forward[i-1][kpre]*transition[kpre, k]*emission[k, xList[i]] for kpre in range(l)])\n",
        "        fsink = sum(forward[n-1])\n",
        "\n",
        "        for k in range(l):\n",
        "            backward[n-1][k] = 1\n",
        "        for i in range(n-2, -1, -1):\n",
        "            for k in range(l):\n",
        "                backward[i][k] = sum([backward[i+1][kpre]*transition[k, kpre]*emission[kpre, xList[i+1]] for kpre in range(l)])\n",
        "\n",
        "        Pr = np.zeros((l, n), dtype = float)\n",
        "        for i in range(n):\n",
        "            for k in range(l):\n",
        "                Pr[k, i] = forward[i][k]*backward[i][k]/fsink\n",
        "\n",
        "        Pr2 = np.zeros((l, l, n-1), dtype = float)\n",
        "        for k1 in range(l):\n",
        "            for k2 in range(l):\n",
        "                for i in range(n-1):\n",
        "                    Pr2[k1, k2, i] = forward[i][k1]*transition[k1, k2]*emission[k2, xList[i+1]]*\\\n",
        "                    backward[i+1][k2]/fsink\n",
        "\n",
        "        return Pr, Pr2\n",
        "\n",
        "    def estimateParameters(self, xList, Pr, Pr2, nAlphabet):\n",
        "        n = len(xList)\n",
        "        l = Pr2.shape[0]\n",
        "        transition = np.zeros((l, l), dtype = float)\n",
        "        emission = np.zeros((l, nAlphabet), dtype = float)\n",
        "        for k1 in range(l):\n",
        "            for k2 in range(l):\n",
        "                transition[k1, k2] = sum(Pr2[k1, k2, :])\n",
        "        for k in range(l):\n",
        "            for i in range(n):\n",
        "                emission[k, xList[i]] += Pr[k, i]\n",
        "\n",
        "        for i in range(l):\n",
        "            sum1 = sum(transition[i,:])\n",
        "            if 0 == sum1:\n",
        "                transition[i,:] += 1/l\n",
        "            else:\n",
        "                transition[i,:] /= sum1\n",
        "            sum2 = sum(emission[i,:])\n",
        "            if 0 == sum2:\n",
        "                emission[i,:] += 1/nAlphabet\n",
        "            else:\n",
        "                emission[i,:] /= sum2\n",
        "        return transition, emission\n",
        "\n",
        "    def BaumWelchLearning(self, x, transition, emission, alphabet, states, iterNo):\n",
        "        x2ind = {alphabet[i]:i for i in range(len(alphabet))}\n",
        "        xList = [x2ind[x[i]] for i in range(len(x))]\n",
        "        for _ in range(iterNo):\n",
        "            Pr, Pr2 = self.softDecode(xList, transition, emission)\n",
        "            transition, emission = self.estimateParameters(xList, Pr, Pr2, len(alphabet))\n",
        "        return transition, emission\n",
        "\n",
        "    def saveTransitionAndEmission(self, alphabet, states, fullTransition, emission):\n",
        "        f = open('result.txt', 'w')\n",
        "        print(' '.join([' '] + states))\n",
        "        f.write('\\t'+'\\t'.join(states) + '\\n')\n",
        "        for i in range(fullTransition.shape[0]):\n",
        "            print(' '.join([states[i]] + ['{:.3f}'.format(a) for a in fullTransition[i, :]]))\n",
        "            f.write('\\t'.join([states[i]] + ['{:.3f}'.format(a) for a in fullTransition[i, :]]) + '\\n')\n",
        "        print('--------')\n",
        "        f.write('--------'+'\\n')\n",
        "        print(' '.join([' '] + alphabet))\n",
        "        f.write('\\t'+'\\t'.join(alphabet)+'\\n')\n",
        "        for i in range(emission.shape[0]):\n",
        "            print(' '.join([states[i]] + ['{:.3f}'.format(a) for a in emission[i, :]]))\n",
        "            f.write('\\t'.join([states[i]] + ['{:.3f}'.format(a) for a in emission[i, :]])+'\\n')\n",
        "        f.close()\n",
        "\n",
        "if __name__ == '__main__':\n",
        "    BaumWelch()"
      ],
      "metadata": {
        "id": "iEwpxWreY99r"
      },
      "execution_count": null,
      "outputs": []
    }
  ]
}