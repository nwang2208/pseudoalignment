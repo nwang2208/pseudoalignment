{
  "nbformat": 4,
  "nbformat_minor": 0,
  "metadata": {
    "colab": {
      "provenance": [],
      "authorship_tag": "ABX9TyNVo2A8EcjZVMthnb52TZB+",
      "include_colab_link": true
    },
    "kernelspec": {
      "name": "python3",
      "display_name": "Python 3"
    },
    "language_info": {
      "name": "python"
    }
  },
  "cells": [
    {
      "cell_type": "markdown",
      "metadata": {
        "id": "view-in-github",
        "colab_type": "text"
      },
      "source": [
        "<a href=\"https://colab.research.google.com/github/nwang2208/Bioinformatics-Class-Projects/blob/homework-for-algorithms/HW6.ipynb\" target=\"_parent\"><img src=\"https://colab.research.google.com/assets/colab-badge.svg\" alt=\"Open In Colab\"/></a>"
      ]
    },
    {
      "cell_type": "markdown",
      "source": [
        "5.4 Q3"
      ],
      "metadata": {
        "id": "RD8KqfEZLdQ2"
      }
    },
    {
      "cell_type": "code",
      "execution_count": null,
      "metadata": {
        "id": "_9IvZ-1nLZpZ"
      },
      "outputs": [],
      "source": [
        "ATGTTA -T - - A\n",
        "- - AT -CGTCC -\n"
      ]
    },
    {
      "cell_type": "markdown",
      "source": [
        "5.6 Q6 and Q10"
      ],
      "metadata": {
        "id": "Amld_ukfOsUq"
      }
    },
    {
      "cell_type": "code",
      "source": [
        "import numpy as np"
      ],
      "metadata": {
        "id": "1jXp68z6TpCS"
      },
      "execution_count": null,
      "outputs": []
    },
    {
      "cell_type": "code",
      "source": [
        "def manhattanTourist(n, m, down, right):\n",
        "    s = np.zeros((n+1,m+1))\n",
        "    s[0][0] = 0\n",
        "\n",
        "    for i in range(1, n+1):\n",
        "        s[i][0] = s[i-1][0] + down[i-1][0]\n",
        "    for j in range(1, m+1):\n",
        "        s[0][j] = s[0][j-1] + right[0][j-1]\n",
        "\n",
        "    for i in range(1, n+1):\n",
        "        for j in range(1,m+1):\n",
        "            s[i][j] = max(s[i-1][j] + down[i-1][j], s[i][j-1] + right[i][j-1])\n",
        "\n",
        "    return s[n][m]\n",
        ""
      ],
      "metadata": {
        "id": "YMVnqDheOu85"
      },
      "execution_count": null,
      "outputs": []
    },
    {
      "cell_type": "code",
      "source": [
        "#test\n",
        "down = np.array([ [1, 0, 2, 4, 3],[4, 6, 5, 2, 1],[4, 4, 5, 2, 1],[5, 6, 8, 5, 3] ])\n",
        "\n",
        "right = np.array([[3, 2, 4, 0],[3, 2, 4, 2],[0, 7, 3, 3],[3, 3, 0, 2],[1, 3, 2, 2]])\n",
        "\n",
        "n = 4\n",
        "m = 4\n",
        "\n",
        "manhattanTourist(n,m,down,right)\n"
      ],
      "metadata": {
        "id": "4L4-_X8SUenN"
      },
      "execution_count": null,
      "outputs": []
    },
    {
      "cell_type": "code",
      "source": [
        "input = open('dataset_925868_10.txt')\n",
        "input = input.readlines()\n",
        "\n",
        "n = 19\n",
        "m = 16\n",
        "\n",
        "down_in = input[1:1+n]\n",
        "right_in = input[2+n:len(input)]\n",
        "\n",
        "down = np.zeros((n, m+1))\n",
        "for i in range(0, n):\n",
        "    col = 0\n",
        "    for j in range(0, len(down_in[i])):\n",
        "        if(down_in[i][j] != ' '):\n",
        "            if(down_in[i][j] != '\\n'):\n",
        "                down[i][col] = int(down_in[i][j])\n",
        "                col += 1\n",
        "\n",
        "right = np.zeros((n + 1, m))\n",
        "for i in range(0, n+1):\n",
        "    col = 0\n",
        "    for j in range(0, len(right_in[i])):\n",
        "        if(right_in[i][j] != ' '):\n",
        "            if(right_in[i][j] != '\\n'):\n",
        "                right[i][col] = int(right_in[i][j])\n",
        "                col += 1\n"
      ],
      "metadata": {
        "id": "0Xgtdc7zWgGF"
      },
      "execution_count": null,
      "outputs": []
    },
    {
      "cell_type": "code",
      "source": [
        "manhattanTourist(n,m,down,right)"
      ],
      "metadata": {
        "colab": {
          "base_uri": "https://localhost:8080/"
        },
        "id": "WP2n1JwBWuCh",
        "outputId": "f2998b5e-4d0a-4277-e698-270023ff9c21"
      },
      "execution_count": null,
      "outputs": [
        {
          "output_type": "execute_result",
          "data": {
            "text/plain": [
              "110.0"
            ]
          },
          "metadata": {},
          "execution_count": 54
        }
      ]
    },
    {
      "cell_type": "markdown",
      "source": [
        "5.8 Q5"
      ],
      "metadata": {
        "id": "WFey_N9hagtQ"
      }
    },
    {
      "cell_type": "code",
      "source": [
        "import sys\n",
        "import numpy as np"
      ],
      "metadata": {
        "id": "kf51NM68eLeD"
      },
      "execution_count": null,
      "outputs": []
    },
    {
      "cell_type": "code",
      "source": [
        "sys.setrecursionlimit(100000)"
      ],
      "metadata": {
        "id": "ehbPdDfaeI6V"
      },
      "execution_count": null,
      "outputs": []
    },
    {
      "cell_type": "code",
      "source": [
        "#1 = down, 2 = right, 3 = slash\n",
        "def LCSBacktrack(v, w):\n",
        "    s = np.zeros((len(v) + 1, len(w) + 1))\n",
        "    backtrack = np.zeros((len(v) + 1, len(w) + 1))\n",
        "\n",
        "    for i in range(0, len(v) + 1):\n",
        "        s[i][0] = 0\n",
        "    for j in range(0, len(w) + 1):\n",
        "        s[0][j] = 0\n",
        "\n",
        "    for i in range(1, len(v) + 1):\n",
        "        for j in range(1, len(w) + 1):\n",
        "            ma = 0\n",
        "\n",
        "            if(v[i-1] == w[j-1]):\n",
        "                ma = 1\n",
        "            s[i][j] = max(s[i-1][j], s[i][j-1], s[i-1][j-1] + ma)\n",
        "\n",
        "            if(s[i][j] == s[i-1][j]):\n",
        "                backtrack[i][j] = 1\n",
        "            elif(s[i][j] == s[i][j-1]):\n",
        "                backtrack[i][j] = 2\n",
        "            elif(s[i][j] == s[i-1][j-1] + ma):\n",
        "                backtrack[i][j] = 3\n",
        "\n",
        "    return backtrack\n",
        "\n"
      ],
      "metadata": {
        "id": "T_seG34Hb3lr"
      },
      "execution_count": null,
      "outputs": []
    },
    {
      "cell_type": "code",
      "source": [
        "def outputLCS(backtrack, v, i , j):\n",
        "    if (i == 0 or j == 0):\n",
        "        return \"\"\n",
        "    if(backtrack[i][j] == 1):\n",
        "        return outputLCS(backtrack, v, i - 1, j)\n",
        "    elif(backtrack[i][j] == 2):\n",
        "        return outputLCS(backtrack, v, i, j - 1)\n",
        "    else:\n",
        "        return outputLCS(backtrack, v, i - 1, j - 1) + v[i-1]\n",
        "\n",
        ""
      ],
      "metadata": {
        "id": "EsKPSO5oa9we"
      },
      "execution_count": null,
      "outputs": []
    },
    {
      "cell_type": "code",
      "source": [
        "v = 'AACCTTGG'\n",
        "w = 'ACACTGTGA'\n",
        "\n",
        "backtrack = LCSBacktrack(v, w)\n",
        "outputLCS(backtrack, v, 8, 9)"
      ],
      "metadata": {
        "colab": {
          "base_uri": "https://localhost:8080/",
          "height": 35
        },
        "id": "1JqQNR0VfxkA",
        "outputId": "7f5f7ac1-fe78-44d2-c97b-a43bd61139c7"
      },
      "execution_count": null,
      "outputs": [
        {
          "output_type": "execute_result",
          "data": {
            "text/plain": [
              "'AACTTG'"
            ],
            "application/vnd.google.colaboratory.intrinsic+json": {
              "type": "string"
            }
          },
          "metadata": {},
          "execution_count": 96
        }
      ]
    },
    {
      "cell_type": "code",
      "source": [
        "v = 'TCCGAGGGTGGATAAGGAACTGTATTAAATGCAGAGGGTCTCTGTGAGACGTCGCACCCCATTCGGCGTCGTACCGCGCAATACCCGATTCGAGTCGCGTCAGGTGGTTGTTACTTCCGGAAAACTATGGGTGATACGGAATGGAAAAGCGTCGATATAGAGGGCGCGTGGATCAAGAGATTGGTTGCACCACGCTTCCGGTATTTGCCGGCGATTTTAGGATCCGCAACGATTAGGACTGTTGAAGGAGGGTGCTCTCGTGCGCCGCGCCCCAAGGGAGGTCATATTGTAAATAATAAGTCTTTACCGTCGACTCCAACGCCCGTGTAGATGTCTCTCTCTAGAAAGAGACGTGGAACTCAACATATCCACTAAAACGGATTCCATTGCATTATAATTTCGACATTACCGTAGACAACGCTACTTCTTACTTGTGTACTGGCCCCGGCTGTCATTGGCACTGTGAGTGATGCGGTTTAGCATCTGTGGCGCTCCGCCGCAGGCTTAAACTCAGGCCTGCCTGAATATATGAGTGATCGCAGCTCGTTAAATAATACTGTCCGCAAGTATCGTACGCCGGCAGACCATATTCTTCCGACGTGAAGAATTGGTTTATTAATAACATGTGTGACTGATGGGAAAATCTTATTCACTAGCTATTTTGGAGACGCATTAGTTTATCGCCCAGGCGGCTAAGCTTGGTATCGTTATCAGTGTAAGGGCGCCCTGCTGATGATTCGCGTCTCGACTAGCGCACTGCGGATCTGTATGAGGGGGGGTGTGCGCGAAGGACAGACCCGTAAGCCATTGCTTCAATAGTTCCAAGCGCATCTTCGTAGTATGATACCAAACGTGCAAGGTCAACACTTTGCTAAGAATAGACGGCGCGGAGACGGGTCCAGTGGAAACCTGACGCACGGTTACCGCCCTACGGAATTGAGGTT'\n",
        "\n",
        "w = 'CCCCACCGCGCTGACCACGGACCAAAAAATTGTTCCACCCTTGTCCAAGGGGAGTCTTCAATTTTGCCAAGGACAGAAGGGTCTTGAGAGATCTGGAGCTCTAGTAATTGATCAGATGGAAGGGCGCCGCCGCTATGACTGGGCCCAGTAGGCACTTCGTTAGCCAAGTGCCTCACGGATGCAGGAGCGGTTTTGGCTATCCTTTAAATGTGTGCACAACGGCGTGAGCTGGATATGAAACCCAAAACGCCGTACTCTACCATAGCAGGCGATACATATCGTGTCCTCTTTGCGGGTGCCAAGTTGGTTGTGCTCTAGCCCTCTTCTCCCCTCCAAGTTCTCTGTAGGTATGGCGGTAAGTCGGGATAGCAGGGGGATTGAGCTATCCAACAGAGTTTCTTTAACTTCTGTCGACTTCTCTGAGGTACTTTCTTAACTGAACACCCTACGCCAGCCTCACCCGAGGAGTCCCTCTCATTCACAGGAGGGCACCGTTACCTTACAAACCCTAAAGTATGCATAGAAACGACACGATGTCTCCAGTACGGTGTGGGTCCCGGCCATTATCATTAGCCTGAAGTCCCGTGATTAGAGACTGCAAACCTAATACGCATATTTAAGCCAATAAACACTCTGTACACAACAGCTCTGTGACCGATGGTATGCCAGTAAGAGCGCCAAATGAAAGTTACTGTGCGAATCAACACCTCTTACGCTGTTCGTATAGGATACTTTTGGAAAATTGGATGGGCTCAAATAAAATGAGATACCCTAATTCGATAGACTTCGGCGAAAACTGGCTTGCATGGGCATTTGGACAATTGAGGG'\n",
        "\n",
        "backtrack = LCSBacktrack(v, w)\n",
        "outputLCS(backtrack, v, len(v), len(w))\n",
        "\n"
      ],
      "metadata": {
        "colab": {
          "base_uri": "https://localhost:8080/",
          "height": 107
        },
        "id": "LjLLFvVneS-i",
        "outputId": "19e8b5f5-28b9-4fea-dd11-cfc83ceb3a19"
      },
      "execution_count": null,
      "outputs": [
        {
          "output_type": "execute_result",
          "data": {
            "text/plain": [
              "'CCAGGTGAAGGACAAAAAATTGTTCCACCCTTCGGGGAGCCAATTTCAGGCGAGGGTCTTGGAACTGGGTTAGAATGATCGATAAGGGGCGCGTATGATGGGCCCAGCTTCGTAGCCGGCTAGGATGCAACGTTGGACTTTAAATGTGTGCCCGGCGGAGGATATGAAAAAAAGCTACCTACCAACGCGTTAGTGTCCTCTTGGGGTGCCAATTGGTTTGCTTATTTTCCCCTCAAGTTCTCTGTGTATGGCGGTGTCGGATGAGGGGGTTAGCATCCCGAGCTTAACTCGTCGATTTGAGGTACTCTTAATAATACGCCGCTCACCCGGAGCCTTCTTCCAGGAGAGTTATTAAAACAGTTGATAGAAAACATTCCAGTATTGGGCGCATTATTTAGCCAGCGGTAAGCTGTATCGATATTAAGCCATACCTCTGACACCACTCGGACGATGGTTGCCGAAGGCGCCGAAGTTCTTCAATATTACGCTTTCGTATAGATACAAATGAGGTCAAATAAAATAGACCCAACGTAGTGGAAACTGCGCAGGGCTGGAATTGAGG'"
            ],
            "application/vnd.google.colaboratory.intrinsic+json": {
              "type": "string"
            }
          },
          "metadata": {},
          "execution_count": 97
        }
      ]
    },
    {
      "cell_type": "code",
      "source": [
        "backtrack"
      ],
      "metadata": {
        "id": "5iMl0I3Ujoa4"
      },
      "execution_count": null,
      "outputs": []
    },
    {
      "cell_type": "code",
      "source": [
        "v = 'GCCAGCGCGTAAAAGTTGCATTCGCCGTCTACGAATAAACAAGGTTCTGGCGCTAGAATGAATGTCAGCAAGGTATTGTGGCAGGTTAGCATCCAGGCGTTGATGTAAAATGAATGTAGATAAGTCGTTCATCTCAATATGCATCAGCCAGAGTGAATGTGCAACCTACGGGTCTAAAGTTACGAGTGCCTTTGCCCGCGCGAGGGATAGGGGCCGCGTGTCCACTCTTCGGGCCACCAACATTCTACCGTTGCTATGCCTACTCTGGGCGTTGAGACTCTAAGTTCACTAGCTCAATCAGGGCTTATCTCTAACTGCAAATCAGAGGGCCCCATGCGTGCCCCGCTGGACTTTATTATGATACAATGCACTGTCTGGAGCGGTGATCACGTGTGATGAAAATATGAGATCGGACTTCGGATGATAGACTGCCCAGATAATCATCCACTACCGTCAACTATCCGTGGCCGCATCTTTCCCTCATAACGCTGATGGCACTAGCTAACCGGTGCCGCTCATCATTTTCCGTACTTCAGACAGCGTCAAAAACTGTCAGCCAAGTAAAACAGGGTAAGCCGGGGGTATGTAGGGGGGTTTAGTCTCAATTAGAGGTAGAGAACGTCTGTAATCCTCGAGATGTTCCCGTGCCTATACTCTAACTCGCAACAGTGAAACCATCCACGTGTAAGTCTATATGCGGAGACCATCAACCCGGTGAATATTTAATCGCTAAGTACCCGAAACCGAAAATGTTGGCTTAGCGCCCTGGGTATAACGCCTAGGCAATATCCACATAAACAGCTAGTGCGACGACTGCGCCAAGTAAGGGGACAAACCTGGGATTGGTTCTGTTGAAGTTCCCGCCGCAACCGGCCTAAGTGGAGTGTCCCCAGGTTTCGA'\n",
        "\n",
        "w = 'GCCAGAGCGTAGTTGTGAGGTGTTCGTCCGGGCTTCGTCTACAAAAAAACAAGGTACTGGCGTGCGTTAGAATGAGTCACCAAGGTAATGTGCGTTTGTGCAGGTTAGCCTTCCAGGCGTTGATGTTGCAAATGGATAACGTGTCGTTCATCTCAATATGCATCATATTAAGTGGGGGCAACCTACGGGTAAAACACGGGTCGCGCCCGAGGGATAGGCATTGCGGCGCGCCACCTTTCGGGCTACCTACCCGCATGCTCGTTGCTTTTCGGGGTTCACTAGCTCAATCAGGGCTTATCTCGAGCAAGGGGCTAAAATCAGCACCCCATGCGGGCCCCTCTGGAGTGTATTATGATACAATGGACTGTGTGGAGGTTTATTTCAGCGTCCTGTACTTATGAGACGAAAATATGAATCGGACTTCGGATGGTCTTAATTGGAGATCAACATCCAAATTACCCTTCAACTATACGTGGCCGCATCATTCCCTCACCCTTAACGCTGATGGCCCTAGCTAACCTCATAATTTTCGGTGCGTACTTGATACAACGTCAGAAACTGTCAGCAGGGCCACAAACTATTAAGTCGGGGGTATGTAGGGGGGGAAGGTTTTAGTCGGCGCCTTTTAATTAGAGGTAGAGAACGTCTGTAGCTTTGTAATCCTAGATGTTCCCGTGCCTATACTTCGCAACTGGAAACCATCAACGTGTAAGTCTATATGCGGTGGGGGAGACCCCGGTGAATATTTAATCGCTCACCCGAAACCGACTTAAGGTGGCTTCTTGCCCCGGCAAAGAGCTTGTAATCTCATGCCTAGGCAGGTAGGGATATCCACAGCTAGTGGCGCCAAGTAAGGGGACAAACACTGGTTCCAAAACCGGCTAATTCGATCAGTGGAGTGCCCCCAGGTTTCGA'\n"
      ],
      "metadata": {
        "id": "GRUy6ivDebqq"
      },
      "execution_count": null,
      "outputs": []
    },
    {
      "cell_type": "code",
      "source": [
        "backtrack = LCSBacktrack(v,w)\n",
        "lcs = outputLCS(backtrack, v, len(v), len(w))"
      ],
      "metadata": {
        "id": "aYd6pItTeeD-"
      },
      "execution_count": null,
      "outputs": []
    },
    {
      "cell_type": "code",
      "source": [
        "len(lcs)"
      ],
      "metadata": {
        "colab": {
          "base_uri": "https://localhost:8080/"
        },
        "id": "zcppriF7erDg",
        "outputId": "588874dd-093b-427a-bf0b-bcacb7e2b5fa"
      },
      "execution_count": null,
      "outputs": [
        {
          "output_type": "execute_result",
          "data": {
            "text/plain": [
              "715"
            ]
          },
          "metadata": {},
          "execution_count": 20
        }
      ]
    },
    {
      "cell_type": "code",
      "source": [],
      "metadata": {
        "id": "Yr0bHsyUfiw5"
      },
      "execution_count": null,
      "outputs": []
    },
    {
      "cell_type": "markdown",
      "source": [
        "5.10 Q3"
      ],
      "metadata": {
        "id": "ekHFtv8Wk0BH"
      }
    },
    {
      "cell_type": "code",
      "source": [
        "import numpy as np\n",
        "import sys"
      ],
      "metadata": {
        "id": "HMsTr-UU12CR"
      },
      "execution_count": null,
      "outputs": []
    },
    {
      "cell_type": "code",
      "source": [
        "sys.setrecursionlimit(1000000000)"
      ],
      "metadata": {
        "id": "8ITkc-WEdyn1"
      },
      "execution_count": null,
      "outputs": []
    },
    {
      "cell_type": "code",
      "source": [
        "def modifiedOutput(backtrack, v, w, i, j):\n",
        "    if (i == 0 and j == 0):\n",
        "        return \"\",\"\"\n",
        "    elif(i==0 and j > 0):\n",
        "        return (\"-\"*j, w[:j])\n",
        "    elif(i > 0 and j == 0):\n",
        "        return (v[:i], \"-\"*i)\n",
        "\n",
        "\n",
        "    if(backtrack[i,j] == 1): #deletion in w\n",
        "        return (modifiedOutput(backtrack, v, w, i - 1, j)[0] + v[i-1], modifiedOutput(backtrack, v, w, i-1, j)[1] + \"-\")\n",
        "    elif(backtrack[i,j] == 2):\n",
        "        return (modifiedOutput(backtrack, v, w, i, j - 1)[0] + \"-\", modifiedOutput(backtrack, v, w, i, j-1)[1] + w[j-1])\n",
        "    else:\n",
        "        return (modifiedOutput(backtrack, v, w, i - 1, j - 1)[0] + v[i-1], modifiedOutput(backtrack, v, w, i - 1, j - 1)[1] + w[j-1])\n",
        "\n"
      ],
      "metadata": {
        "id": "a2EmqPihrptF"
      },
      "execution_count": null,
      "outputs": []
    },
    {
      "cell_type": "code",
      "source": [
        "def modifiedBacktrack(v, w, match_reward, mismatch_penalty, indel_penalty):\n",
        "    s = {}\n",
        "    backtrack = {}\n",
        "\n",
        "    for i in range(len(v)+1):\n",
        "        s[i,0] = -i * indel_penalty\n",
        "        backtrack[i,0] = 1\n",
        "    for j in range(len(w)+1):\n",
        "        s[0,j] = -j * indel_penalty\n",
        "        backtrack[0,j] = 2\n",
        "\n",
        "    for i in range(1, len(v)+1):\n",
        "        for j in range(1, len(w)+1):\n",
        "            ma = -1 * mismatch_penalty\n",
        "\n",
        "            if(v[i-1] == w[j-1]):\n",
        "                ma = match_reward\n",
        "\n",
        "            s[i,j] = max(s[i-1,j]-indel_penalty, s[i,j-1]-indel_penalty, s[i-1,j-1]+ma)\n",
        "\n",
        "            if(s[i,j] == s[i-1,j]-indel_penalty):\n",
        "                backtrack[i,j] = 1\n",
        "            elif(s[i,j] == s[i,j-1]-indel_penalty):\n",
        "                backtrack[i,j] = 2\n",
        "            elif(s[i,j] == s[i-1,j-1]+ma):\n",
        "                backtrack[i,j] = 3\n",
        "\n",
        "    return s,backtrack\n",
        "\n",
        "\n"
      ],
      "metadata": {
        "id": "fiVhfW7zpOWX"
      },
      "execution_count": null,
      "outputs": []
    },
    {
      "cell_type": "code",
      "source": [
        "def getScore(align_v, align_w, match_reward, mismatch_penalty, indel_penalty):\n",
        "    score = 0\n",
        "    for i in range(len(align_v)):\n",
        "        if(align_v[i] != '-' and align_w[i] != '-'): #match or mismatch\n",
        "            if(align_v[i] == align_w[i]):\n",
        "                score += match_reward\n",
        "            else:\n",
        "                score -= mismatch_penalty\n",
        "        else:\n",
        "            score -= indel_penalty\n",
        "\n",
        "    return score\n",
        "\n"
      ],
      "metadata": {
        "id": "N8wU01nW0DzH"
      },
      "execution_count": null,
      "outputs": []
    },
    {
      "cell_type": "code",
      "source": [
        "v = 'GCCAGCGCGTAAAAGTTGCATTCGCCGTCTACGAATAAACAAGGTTCTGGCGCTAGAATGAATGTCAGCAAGGTATTGTGGCAGGTTAGCATCCAGGCGTTGATGTAAAATGAATGTAGATAAGTCGTTCATCTCAATATGCATCAGCCAGAGTGAATGTGCAACCTACGGGTCTAAAGTTACGAGTGCCTTTGCCCGCGCGAGGGATAGGGGCCGCGTGTCCACTCTTCGGGCCACCAACATTCTACCGTTGCTATGCCTACTCTGGGCGTTGAGACTCTAAGTTCACTAGCTCAATCAGGGCTTATCTCTAACTGCAAATCAGAGGGCCCCATGCGTGCCCCGCTGGACTTTATTATGATACAATGCACTGTCTGGAGCGGTGATCACGTGTGATGAAAATATGAGATCGGACTTCGGATGATAGACTGCCCAGATAATCATCCACTACCGTCAACTATCCGTGGCCGCATCTTTCCCTCATAACGCTGATGGCACTAGCTAACCGGTGCCGCTCATCATTTTCCGTACTTCAGACAGCGTCAAAAACTGTCAGCCAAGTAAAACAGGGTAAGCCGGGGGTATGTAGGGGGGTTTAGTCTCAATTAGAGGTAGAGAACGTCTGTAATCCTCGAGATGTTCCCGTGCCTATACTCTAACTCGCAACAGTGAAACCATCCACGTGTAAGTCTATATGCGGAGACCATCAACCCGGTGAATATTTAATCGCTAAGTACCCGAAACCGAAAATGTTGGCTTAGCGCCCTGGGTATAACGCCTAGGCAATATCCACATAAACAGCTAGTGCGACGACTGCGCCAAGTAAGGGGACAAACCTGGGATTGGTTCTGTTGAAGTTCCCGCCGCAACCGGCCTAAGTGGAGTGTCCCCAGGTTTCGA'\n",
        "\n",
        "w = 'GCCAGAGCGTAGTTGTGAGGTGTTCGTCCGGGCTTCGTCTACAAAAAAACAAGGTACTGGCGTGCGTTAGAATGAGTCACCAAGGTAATGTGCGTTTGTGCAGGTTAGCCTTCCAGGCGTTGATGTTGCAAATGGATAACGTGTCGTTCATCTCAATATGCATCATATTAAGTGGGGGCAACCTACGGGTAAAACACGGGTCGCGCCCGAGGGATAGGCATTGCGGCGCGCCACCTTTCGGGCTACCTACCCGCATGCTCGTTGCTTTTCGGGGTTCACTAGCTCAATCAGGGCTTATCTCGAGCAAGGGGCTAAAATCAGCACCCCATGCGGGCCCCTCTGGAGTGTATTATGATACAATGGACTGTGTGGAGGTTTATTTCAGCGTCCTGTACTTATGAGACGAAAATATGAATCGGACTTCGGATGGTCTTAATTGGAGATCAACATCCAAATTACCCTTCAACTATACGTGGCCGCATCATTCCCTCACCCTTAACGCTGATGGCCCTAGCTAACCTCATAATTTTCGGTGCGTACTTGATACAACGTCAGAAACTGTCAGCAGGGCCACAAACTATTAAGTCGGGGGTATGTAGGGGGGGAAGGTTTTAGTCGGCGCCTTTTAATTAGAGGTAGAGAACGTCTGTAGCTTTGTAATCCTAGATGTTCCCGTGCCTATACTTCGCAACTGGAAACCATCAACGTGTAAGTCTATATGCGGTGGGGGAGACCCCGGTGAATATTTAATCGCTCACCCGAAACCGACTTAAGGTGGCTTCTTGCCCCGGCAAAGAGCTTGTAATCTCATGCCTAGGCAGGTAGGGATATCCACAGCTAGTGGCGCCAAGTAAGGGGACAAACACTGGTTCCAAAACCGGCTAATTCGATCAGTGGAGTGCCCCCAGGTTTCGA'\n"
      ],
      "metadata": {
        "id": "KTxzpVXs1tXF"
      },
      "execution_count": null,
      "outputs": []
    },
    {
      "cell_type": "code",
      "source": [
        "len(v)"
      ],
      "metadata": {
        "colab": {
          "base_uri": "https://localhost:8080/"
        },
        "id": "apGKYlEU4BaH",
        "outputId": "d90d8ba5-a0d3-4921-fc54-5b5093f9fa15"
      },
      "execution_count": null,
      "outputs": [
        {
          "output_type": "execute_result",
          "data": {
            "text/plain": [
              "900"
            ]
          },
          "metadata": {},
          "execution_count": 106
        }
      ]
    },
    {
      "cell_type": "code",
      "source": [
        "len(backtrack1)"
      ],
      "metadata": {
        "colab": {
          "base_uri": "https://localhost:8080/"
        },
        "id": "RgsGfdqF4Cqf",
        "outputId": "8090e893-5285-4133-9f41-eecd74bf3e32"
      },
      "execution_count": null,
      "outputs": [
        {
          "output_type": "execute_result",
          "data": {
            "text/plain": [
              "901"
            ]
          },
          "metadata": {},
          "execution_count": 109
        }
      ]
    },
    {
      "cell_type": "code",
      "source": [
        "v = 'GAGA'\n",
        "w = 'GAT'"
      ],
      "metadata": {
        "id": "eB923Oxl1o7y"
      },
      "execution_count": null,
      "outputs": []
    },
    {
      "cell_type": "code",
      "source": [
        "\n",
        "\n",
        "match_reward = 1\n",
        "mismatch_penalty = 1\n",
        "indel_penalty = 2\n",
        "\n",
        "#backtrack = LCSBacktrack(v,w)\n",
        "s = modifiedBacktrack(v, w, match_reward, mismatch_penalty, indel_penalty)[0]\n",
        "backtrack = modifiedBacktrack(v, w, match_reward, mismatch_penalty, indel_penalty)[1]\n",
        "\n"
      ],
      "metadata": {
        "id": "VkyAmN_-rM-b"
      },
      "execution_count": null,
      "outputs": []
    },
    {
      "cell_type": "code",
      "source": [
        "align = modifiedOutput(backtrack, v, w, len(v), len(w))\n",
        "align_v = align[0]\n",
        "align_w = align[1]\n",
        "score = getScore(align_v, align_w, match_reward, mismatch_penalty, indel_penalty)"
      ],
      "metadata": {
        "id": "ZZSnvxs7fNDG"
      },
      "execution_count": null,
      "outputs": []
    },
    {
      "cell_type": "code",
      "source": [
        "align = modifiedOutput(backtrack, v, w, len(v), len(w))\n",
        "align_v = align[0]\n",
        "align_w = align[1]\n",
        "score = getScore(align_v, align_w, match_reward, mismatch_penalty, indel_penalty)\n",
        "\n",
        "np.savetxt(\"answer.csv\",\n",
        "           align,\n",
        "           delimiter =\", \",  # Set the delimiter as a comma followed by a space\n",
        "           fmt ='% s')"
      ],
      "metadata": {
        "id": "QA3PH_8t8y8G"
      },
      "execution_count": null,
      "outputs": []
    },
    {
      "cell_type": "code",
      "source": [
        "score"
      ],
      "metadata": {
        "colab": {
          "base_uri": "https://localhost:8080/"
        },
        "id": "KdkrbbWu02Ll",
        "outputId": "9c6cf16f-491b-45f0-c4cf-4d74cf3c3ce5"
      },
      "execution_count": null,
      "outputs": [
        {
          "output_type": "execute_result",
          "data": {
            "text/plain": [
              "-1"
            ]
          },
          "metadata": {},
          "execution_count": 210
        }
      ]
    },
    {
      "cell_type": "code",
      "source": [
        "align_v"
      ],
      "metadata": {
        "id": "A7UZfJpbuFTa"
      },
      "execution_count": null,
      "outputs": []
    },
    {
      "cell_type": "code",
      "source": [
        "align_w"
      ],
      "metadata": {
        "id": "NPjAxBBp00mp"
      },
      "execution_count": null,
      "outputs": []
    },
    {
      "cell_type": "markdown",
      "source": [
        "5.11 Q3"
      ],
      "metadata": {
        "id": "_eYXF6mp545w"
      }
    },
    {
      "cell_type": "code",
      "source": [
        "def editDistance(str1, str2, m, n):\n",
        "\n",
        "\n",
        "    if m == 0:\n",
        "        return n\n",
        "\n",
        "    if n == 0:\n",
        "        return m\n",
        "\n",
        "    if str1[m-1] == str2[n-1]:\n",
        "        return editDistance(str1, str2, m-1, n-1)\n",
        "\n",
        "    return 1 + min(editDistance(str1, str2, m, n-1),    # Insert\n",
        "                   editDistance(str1, str2, m-1, n),    # Remove\n",
        "                   editDistance(str1, str2, m-1, n-1)    # Replace\n",
        "                   )"
      ],
      "metadata": {
        "id": "DaplZEtc6yFt"
      },
      "execution_count": null,
      "outputs": []
    },
    {
      "cell_type": "code",
      "source": [
        "str1 = 'GAGA'\n",
        "str2 = 'GAT'\n",
        "m = len(str1)\n",
        "n = len(str2)\n",
        "\n",
        "editDistance(str1, str2, m, n)"
      ],
      "metadata": {
        "id": "Em1RbZqw7P_z"
      },
      "execution_count": null,
      "outputs": []
    },
    {
      "cell_type": "markdown",
      "source": [
        "gah"
      ],
      "metadata": {
        "id": "Sf6LBPSKf9B8"
      }
    },
    {
      "cell_type": "code",
      "source": [
        "def outputLCS(backtrack,v,i,j,v_list,w_list):\n",
        "    if i==0 and j==0:\n",
        "        return\n",
        "    if backtrack[i,j]=='south':\n",
        "        outputLCS(backtrack,v,i-1,j,v_list,w_list)\n",
        "        v_list.append(v[i-1])\n",
        "        w_list.append('-')\n",
        "    elif backtrack[i,j]=='east':\n",
        "        outputLCS(backtrack,v,i,j-1,v_list,w_list)\n",
        "        v_list.append('-')\n",
        "        w_list.append(w[j-1])\n",
        "    else:\n",
        "        outputLCS(backtrack,v,i-1,j-1,v_list,w_list)\n",
        "\n",
        "        v_list.append(v[i-1])\n",
        "        w_list.append(w[j-1])\n",
        "\n",
        "def lcs(v,w):\n",
        "    sigma=5\n",
        "    s={}\n",
        "    backtrack={}\n",
        "    for i in range(len(v)+1):\n",
        "        s[i,0]=-i*sigma\n",
        "        backtrack[i,0]='south'\n",
        "    for j in range(1,len(w)+1):\n",
        "        s[0,j]=-j*sigma\n",
        "        backtrack[0,j]='east'\n",
        "    for i in range(1,len(v)+1):\n",
        "        for j in range(1,len(w)+1):\n",
        "            ma = -1\n",
        "\n",
        "            if(v[i-1] == w[j-1]):\n",
        "                ma = 1\n",
        "            s[i,j]=max(s[i-1,j]-sigma,\n",
        "                       s[i,j-1]-sigma,\n",
        "                       s[i-1,j-1]+ma)\n",
        "            backtrack[i,j]='south' if (s[i,j]==s[i-1,j]-sigma) else 'east' if (s[i,j]==s[i,j-1]-sigma) else 'southeast'\n",
        "\n",
        "    return backtrack"
      ],
      "metadata": {
        "id": "xNxdgS3Ff9nC"
      },
      "execution_count": null,
      "outputs": []
    },
    {
      "cell_type": "code",
      "source": [
        "def getScore(align_v, align_w, match_reward, mismatch_penalty, indel_penalty):\n",
        "    score = 0\n",
        "    for i in range(len(align_v)):\n",
        "        if(align_v[i] != '-' and align_w[i] != '-'): #match or mismatch\n",
        "            if(align_v[i] == align_w[i]):\n",
        "                score += match_reward\n",
        "            else:\n",
        "                score -= mismatch_penalty\n",
        "        else:\n",
        "            score -= indel_penalty\n",
        "\n",
        "    return score"
      ],
      "metadata": {
        "id": "_TgqtwZsl-Bc"
      },
      "execution_count": null,
      "outputs": []
    },
    {
      "cell_type": "code",
      "source": [
        "v = 'GTACCAAGAGGTGGAGAACACGTTGGTTGTCAACTGGCTCAGCGAGCCCTGAGAGAGCGGTCGGAGAATTACCACTAGGGACAAGGCCTCGGAGTCGTCCATAACGTCTTTTAGCACAAGCGCGCGTCAGACGTTTTTGGTTTTTATCCCGCGAGTTGATATGCGCGCGCATCTTAGGGTCCCTCTATTTTGTATACCAACTCCTAACAGAGACACGACACGCCAATCCCATTTCCCCCTGCTCCCTCCGCAACAAAGCTTGCGGACAACTATTTCCTAAGGGAGTGGGTTTTCGTACGTATGCGATGTCCAGGGATTTAGACCCCAACACGGCGCGTTCTGCAAATTTAGTGGTTCACTCGGATGTTAAAAAAGAATGTACTATGCCATTATGTATTGGACCTGCCCCACCATTGGCGAGGCCATCGGCAGGGTGACCCCAGTAAGTACCTACGGGCACTTGGCTCTCACGATGCACAGATTAAAAGCACTTCCTGTTTACCTGTAGTTGGTTCAATTAATGCAAACGGGTTAGTTCCCGTTAGTTTGATAAGTCATTCACACTGGAAACGCTACCAGTGGGTTACGCTAGCTTGAGGCACCTTTGATAACCTAGATGTCATGCGAGGGGCAAGAACGTGTAACGATTAAAGTAGGAGAGCGACTTTAGGCTCTTCTGCACTACTGAAGATTCAACGGACTAAGCTATGCCAGCGAGCTCCGCCACGCATTACGTATGGCATTCTGCGCGGGAGTACCTATGGTCGACTGTGGCTCCTACCCCATCGAGGTTTGTGGTTTACTTTTAAAATTGTGAAAATCTTAGGTGTTTAATGTTATTTCGCGTGTTGAAGGACATCGAGCCCCAAGGCCTAATTACACGCGGACCAATGGGGTGAT'\n",
        "\n",
        "\n",
        "w = 'GTACCACGTAAAACAACGTATGTTGTCAACTGGCTCAGATGTGTGTAGCCGTCAGAGACAGTCGGTGCCTTACCAAGAGAGGAGTCTTTCGTATTAGCACATGCACGTCCTACGTTGTCATTTAACTCGTTTTATTACCCATTCTGGCTAGTTATCCCCGAGTTGAGCGCAGGCAGTCCGGGGATTAGGAGGTTCCTCTTGATTTTGATGGAGCTTATACCAAGTCCAAACAGAGAGAGGGAAACGAAGGTGTCCGCCAATCTACTATTTCCCCCTGATACCGCCGTAGCGGTCAATTATATAAAGGGAGCGTATGCGATGTCCAGGGATATCCGCAGAACCCTTCGTTTCAACACCGCGCGTTAAATTTAGTGCACAGATGGTCACTCGCACTCTCTTGTTCAAAAAATGTATTATGTACTATCCTGTGTATGCATTCCCGCTCTCACGGGTATTGGACCTGCCCCACCATTGGCCGTCAAGGCCAGTCGCATTCTTTAAGTACCGACGGGCACTTGGCCCCACGATGCAAAGATTAAAAGCGTTTCGCTGTTGGTTCAATTATGCAAACGGCTTAGTTCCCGTTACTTGTCATACACACTGAGTGGGTTACCACTCAACGTTAGCTTTAGGCAACGATCTTTCAATAACCTAAGCGATAGTCATGCGAGGGGCAAGAAAGTGTCCCACGCTGCCTTAAAGTAGGGCTACTTTAGGGACCACTTGGTTCTGCACTACTGAAGATTCAACGGACTCTTCGACTATGGCGTTGACTCCGCCATGCATTACGGGGGAATTGATTCTGCGCGGGAGACGGGGTCGACTGTAGGAAGCTTCTACCCAGTTGATATCAAAACTTGTGAAAATCTTAGGTGTGTTTTTACGCACTTGCCTGTTGATGAGGTAAGCTGGCAGAGGCCTAATTACACGTGTAGGTGAT'\n",
        "\n",
        "\n"
      ],
      "metadata": {
        "id": "AL3MY_VWgM1t"
      },
      "execution_count": null,
      "outputs": []
    },
    {
      "cell_type": "code",
      "source": [
        "v = 'GAGA'\n",
        "w = 'GAT'"
      ],
      "metadata": {
        "id": "VKhkWaa7h5lJ"
      },
      "execution_count": null,
      "outputs": []
    },
    {
      "cell_type": "code",
      "source": [
        "backtrack = lcs(v,w)"
      ],
      "metadata": {
        "id": "My0pFb3ZgyAH"
      },
      "execution_count": null,
      "outputs": []
    },
    {
      "cell_type": "code",
      "source": [
        "backtrack"
      ],
      "metadata": {
        "id": "LSw5PB_Ug18G"
      },
      "execution_count": null,
      "outputs": []
    },
    {
      "cell_type": "code",
      "source": [
        "\n",
        "v_list = list()\n",
        "w_list = list()\n",
        "outputLCS(backtrack, v, len(v), len(w), v_list, w_list)"
      ],
      "metadata": {
        "id": "KTg_B2mIgQip"
      },
      "execution_count": null,
      "outputs": []
    },
    {
      "cell_type": "code",
      "source": [
        "v_str = \"\"\n",
        "w_str = \"\"\n",
        "\n",
        "for el in v_list:\n",
        "    v_str += el\n",
        "\n",
        "for el in w_list:\n",
        "    w_str += el"
      ],
      "metadata": {
        "id": "YBpBDzzEhBwM"
      },
      "execution_count": null,
      "outputs": []
    },
    {
      "cell_type": "code",
      "source": [
        "v_str"
      ],
      "metadata": {
        "colab": {
          "base_uri": "https://localhost:8080/",
          "height": 125
        },
        "id": "ZQ0PMhKohKdu",
        "outputId": "26abbe61-9d4d-4637-87c6-bc07264377b9"
      },
      "execution_count": null,
      "outputs": [
        {
          "output_type": "execute_result",
          "data": {
            "text/plain": [
              "'GTACCAAGAGGTGGAGAACACGTTGGTTGTCAACTG-GCTCAGCG-AGCCCTGAGAGAGCGGTCGGAGAATTACCACTAG-GGACAAGGCC-TCGGAGT-CGTCCATAACGTCTTTTAGCACA-AGCGCGCGTCAG-ACGTTTT-TGGTTTTTATCCCGCGAGTTGAT---ATGC-GCGCGCATCTTAGG-G-TCCCTCT--ATTTTG-T--A--T-A--CCAACTCCTAACAGAGACACG-ACACGCCAAT--CC-CATTTCCCCCTGCTCCCTCCGCAACAAAGCTTGCGGACAACTATTTCCTAAGGGAGTG-G-GTTTTCGTACG-TATGCGATGTCCAGGGATTTAGACCCCAACACGGCGCGTTC--TGCAAATTTAGTGGTTC--ACTCGGATGTT-AAAAAA-G-A--ATGTACTATGCCAT-TATGTATTGGACCTGCCCCACC-ATTGG-CGAGGCCATCGGCAGG--GTGACC-CCAGTAAGTACCTACGGGCACTTG-GCTCTCACGATGCACAGATTAAAAGCACTTCCTGTTTACCTGTAGTTGGTTCAATTAATGCAAACGGGTTAGTTCCCGTTAGTTTGATAAGTCATTCACACTGGAAACGCT-ACCAGTGGGTTACGCTAGCTTGAGGCACCTTTGATAACCTAGATGTCATGCGAGGGGCAAGAACGTGTA--ACGATTAAAGTAGG-AGAGCGACTTTAGGCTCTTCTGCACTACTGAAGATTCAACGGACTAAGCTATGCCAGCGAGCTCCGCCACGCATTACGTATGGCATTCTGCGCGGGAGTACCTATGGTCGACTGT-GGCTCCTACCCCATCGAGGTT-TGTGGT-TTACTTTTAAAA-TTGTGAAAATCTTAGGTGT-TTAATGTTATTTCGCGTGTTGAAGGACATCGAGCCCCAAGGCCTAATTACACGCGGACCAATGGGGTGAT'"
            ],
            "application/vnd.google.colaboratory.intrinsic+json": {
              "type": "string"
            }
          },
          "metadata": {},
          "execution_count": 103
        }
      ]
    },
    {
      "cell_type": "code",
      "source": [
        "w_str"
      ],
      "metadata": {
        "colab": {
          "base_uri": "https://localhost:8080/",
          "height": 125
        },
        "id": "XXrdDsFahMAl",
        "outputId": "87df4269-85bf-484f-f059-d1e9d604f8c8"
      },
      "execution_count": null,
      "outputs": [
        {
          "output_type": "execute_result",
          "data": {
            "text/plain": [
              "'GTACCACGTAAAACAACGTATGTTGTCAACTGGCTCAGATGTGTGTAGCCGTCAGAGA-CAGTCGGTGCCTTACCAAGAGAGGAGTCTTTCGTATTAGCACATGCACGTCCTACGTTGTCATTTAACTCGTTTTATTACCCATTCTGGCTAGTTATCCCCGAGTTGAGCGCAGGCAGTCCGGGGATTAGGAGGTTCCTCTTGATTTTGATGGAGCTTATACCAAGTCCAAACAGAGAGAGGGAAACGAAGGTGTCCGCCAATCTACTATTTCCCCCTGATACCGCCGTAGCGGTCAATTATATAAAGGGAGCGTATGCGATGTCCAGGGATATCCGCAGAACCCTTCGTTTCAACACCGCGCGTTAAATTTAGTGCACAGATGGTCACTCGCACTCTCTTGTTCAAAAAATGTATTATGTACTATCCTGTGTATGCATTCCCGCTCTCACGGGTATTGGACCTGCCCCACCATTGGCCGTCAAGGCCAGTCGCATTCTTTAAGTACCGACGGGCACTTGGCCCCACGATGCAAAG-ATTAAAAGCGTTTCGCT-GTTGGTTCAATTA-TGCAAACGGCTTAGTTCCCGTTACTTGTCATACACACTGAGTGGGTTACCACTCAACGTTAGCTTTAGGCAACGATCTTTCAATAACCTAAGCGATA-GTCATGCGAGGGGCAAGAAAGTGTCCCACGCTGCCTTAAAGTAGGGCTACTTTAGGGACCACTTGGTT-CTGCAC-TACTGAAGATTCAACGGACTCTTCGA-CTATGGCGTTGACTCCGCCATGCATTACGGG-GGAATTGATTCTGCGCGGGAGACGGGGTCGACTGTAGGAAGCTTCTACCCAGTTGATATCAAAACTTGTGAAAATCTTAGGTGTGTTTTTACGCACTTGCCTGTTGATGAGGTAAGCTGGCAGAGGCCTAATTACACGTGTA-----GG--TGAT'"
            ],
            "application/vnd.google.colaboratory.intrinsic+json": {
              "type": "string"
            }
          },
          "metadata": {},
          "execution_count": 104
        }
      ]
    },
    {
      "cell_type": "code",
      "source": [
        "getScore(v_str, w_str, 1, 1, 5)"
      ],
      "metadata": {
        "colab": {
          "base_uri": "https://localhost:8080/"
        },
        "id": "Qbs5xJYPhPoH",
        "outputId": "cbd85210-1fec-4b2c-973f-06412343bd3b"
      },
      "execution_count": null,
      "outputs": [
        {
          "output_type": "execute_result",
          "data": {
            "text/plain": [
              "-236"
            ]
          },
          "metadata": {},
          "execution_count": 113
        }
      ]
    },
    {
      "cell_type": "code",
      "source": [
        "len(v_str)"
      ],
      "metadata": {
        "colab": {
          "base_uri": "https://localhost:8080/"
        },
        "id": "uqR5ymyukQpJ",
        "outputId": "71964e1f-8715-47b4-839d-04489ab62d0b"
      },
      "execution_count": null,
      "outputs": [
        {
          "output_type": "execute_result",
          "data": {
            "text/plain": [
              "956"
            ]
          },
          "metadata": {},
          "execution_count": 107
        }
      ]
    },
    {
      "cell_type": "code",
      "source": [
        "len(v)"
      ],
      "metadata": {
        "colab": {
          "base_uri": "https://localhost:8080/"
        },
        "id": "tiM6BRvfkR_C",
        "outputId": "44657510-f935-47cd-c504-5e71c54498ae"
      },
      "execution_count": null,
      "outputs": [
        {
          "output_type": "execute_result",
          "data": {
            "text/plain": [
              "900"
            ]
          },
          "metadata": {},
          "execution_count": 108
        }
      ]
    },
    {
      "cell_type": "code",
      "source": [
        "len(w_str)"
      ],
      "metadata": {
        "colab": {
          "base_uri": "https://localhost:8080/"
        },
        "id": "F30jT91SkTkf",
        "outputId": "43d9bc65-4efb-42fa-9e38-0d845022dd65"
      },
      "execution_count": null,
      "outputs": [
        {
          "output_type": "execute_result",
          "data": {
            "text/plain": [
              "956"
            ]
          },
          "metadata": {},
          "execution_count": 109
        }
      ]
    },
    {
      "cell_type": "code",
      "source": [
        "len(w)"
      ],
      "metadata": {
        "colab": {
          "base_uri": "https://localhost:8080/"
        },
        "id": "SobwSg6_kVIS",
        "outputId": "95995e9b-c3a7-4ac6-c058-0e20ecaf546f"
      },
      "execution_count": null,
      "outputs": [
        {
          "output_type": "execute_result",
          "data": {
            "text/plain": [
              "940"
            ]
          },
          "metadata": {},
          "execution_count": 110
        }
      ]
    }
  ]
}